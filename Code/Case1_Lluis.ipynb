{
 "cells": [
  {
   "cell_type": "code",
   "execution_count": 84,
   "id": "bcde6340",
   "metadata": {},
   "outputs": [],
   "source": [
    "import pandas as pd\n",
    "import numpy as np\n",
    "import matplotlib.pyplot as plt\n",
    "from sklearn import preprocessing as preproc\n",
    "from sklearn.preprocessing import normalize"
   ]
  },
  {
   "cell_type": "code",
   "execution_count": 294,
   "id": "392aa102",
   "metadata": {},
   "outputs": [
    {
     "data": {
      "text/html": [
       "<div>\n",
       "<style scoped>\n",
       "    .dataframe tbody tr th:only-of-type {\n",
       "        vertical-align: middle;\n",
       "    }\n",
       "\n",
       "    .dataframe tbody tr th {\n",
       "        vertical-align: top;\n",
       "    }\n",
       "\n",
       "    .dataframe thead th {\n",
       "        text-align: right;\n",
       "    }\n",
       "</style>\n",
       "<table border=\"1\" class=\"dataframe\">\n",
       "  <thead>\n",
       "    <tr style=\"text-align: right;\">\n",
       "      <th></th>\n",
       "      <th>ScheduleTime</th>\n",
       "      <th>Airline</th>\n",
       "      <th>FlightNumber</th>\n",
       "      <th>Destination</th>\n",
       "      <th>AircraftType</th>\n",
       "      <th>FlightType</th>\n",
       "      <th>Sector</th>\n",
       "      <th>SeatCapacity</th>\n",
       "      <th>LoadFactor</th>\n",
       "    </tr>\n",
       "  </thead>\n",
       "  <tbody>\n",
       "    <tr>\n",
       "      <th>0</th>\n",
       "      <td>2021-01-01 06:35:00</td>\n",
       "      <td>IA</td>\n",
       "      <td>874</td>\n",
       "      <td>DEN</td>\n",
       "      <td>73W</td>\n",
       "      <td>J</td>\n",
       "      <td>US</td>\n",
       "      <td>142</td>\n",
       "      <td>0.408451</td>\n",
       "    </tr>\n",
       "    <tr>\n",
       "      <th>1</th>\n",
       "      <td>2021-01-01 10:35:00</td>\n",
       "      <td>JZ</td>\n",
       "      <td>818</td>\n",
       "      <td>YHM</td>\n",
       "      <td>AT7</td>\n",
       "      <td>J</td>\n",
       "      <td>CA</td>\n",
       "      <td>74</td>\n",
       "      <td>0.189189</td>\n",
       "    </tr>\n",
       "    <tr>\n",
       "      <th>2</th>\n",
       "      <td>2021-01-01 12:05:00</td>\n",
       "      <td>IA</td>\n",
       "      <td>876</td>\n",
       "      <td>DEN</td>\n",
       "      <td>73W</td>\n",
       "      <td>J</td>\n",
       "      <td>US</td>\n",
       "      <td>142</td>\n",
       "      <td>0.570423</td>\n",
       "    </tr>\n",
       "    <tr>\n",
       "      <th>3</th>\n",
       "      <td>2021-01-01 13:20:00</td>\n",
       "      <td>CN</td>\n",
       "      <td>514</td>\n",
       "      <td>EST</td>\n",
       "      <td>AT7</td>\n",
       "      <td>J</td>\n",
       "      <td>US</td>\n",
       "      <td>72</td>\n",
       "      <td>0.333333</td>\n",
       "    </tr>\n",
       "    <tr>\n",
       "      <th>4</th>\n",
       "      <td>2021-01-01 14:20:00</td>\n",
       "      <td>LJ</td>\n",
       "      <td>3140</td>\n",
       "      <td>DEN</td>\n",
       "      <td>32A</td>\n",
       "      <td>J</td>\n",
       "      <td>US</td>\n",
       "      <td>186</td>\n",
       "      <td>0.204301</td>\n",
       "    </tr>\n",
       "    <tr>\n",
       "      <th>...</th>\n",
       "      <td>...</td>\n",
       "      <td>...</td>\n",
       "      <td>...</td>\n",
       "      <td>...</td>\n",
       "      <td>...</td>\n",
       "      <td>...</td>\n",
       "      <td>...</td>\n",
       "      <td>...</td>\n",
       "      <td>...</td>\n",
       "    </tr>\n",
       "    <tr>\n",
       "      <th>36765</th>\n",
       "      <td>2022-02-08 18:30:00</td>\n",
       "      <td>VW</td>\n",
       "      <td>986</td>\n",
       "      <td>YYZ</td>\n",
       "      <td>320</td>\n",
       "      <td>J</td>\n",
       "      <td>CA</td>\n",
       "      <td>180</td>\n",
       "      <td>0.522222</td>\n",
       "    </tr>\n",
       "    <tr>\n",
       "      <th>36766</th>\n",
       "      <td>2022-02-08 19:30:00</td>\n",
       "      <td>LJ</td>\n",
       "      <td>579</td>\n",
       "      <td>YQU</td>\n",
       "      <td>319</td>\n",
       "      <td>J</td>\n",
       "      <td>CA</td>\n",
       "      <td>156</td>\n",
       "      <td>0.532051</td>\n",
       "    </tr>\n",
       "    <tr>\n",
       "      <th>36767</th>\n",
       "      <td>2022-02-08 19:40:00</td>\n",
       "      <td>LJ</td>\n",
       "      <td>506</td>\n",
       "      <td>YUL</td>\n",
       "      <td>319</td>\n",
       "      <td>J</td>\n",
       "      <td>CA</td>\n",
       "      <td>156</td>\n",
       "      <td>0.602564</td>\n",
       "    </tr>\n",
       "    <tr>\n",
       "      <th>36768</th>\n",
       "      <td>2022-02-08 19:05:00</td>\n",
       "      <td>CL</td>\n",
       "      <td>2708</td>\n",
       "      <td>DAN</td>\n",
       "      <td>73H</td>\n",
       "      <td>J</td>\n",
       "      <td>US</td>\n",
       "      <td>189</td>\n",
       "      <td>0.417989</td>\n",
       "    </tr>\n",
       "    <tr>\n",
       "      <th>36769</th>\n",
       "      <td>2022-02-08 20:35:00</td>\n",
       "      <td>CL</td>\n",
       "      <td>3140</td>\n",
       "      <td>HFD</td>\n",
       "      <td>73H</td>\n",
       "      <td>J</td>\n",
       "      <td>US</td>\n",
       "      <td>189</td>\n",
       "      <td>0.497354</td>\n",
       "    </tr>\n",
       "  </tbody>\n",
       "</table>\n",
       "<p>36770 rows × 9 columns</p>\n",
       "</div>"
      ],
      "text/plain": [
       "             ScheduleTime Airline  FlightNumber Destination AircraftType  \\\n",
       "0     2021-01-01 06:35:00      IA           874         DEN          73W   \n",
       "1     2021-01-01 10:35:00      JZ           818         YHM          AT7   \n",
       "2     2021-01-01 12:05:00      IA           876         DEN          73W   \n",
       "3     2021-01-01 13:20:00      CN           514         EST          AT7   \n",
       "4     2021-01-01 14:20:00      LJ          3140         DEN          32A   \n",
       "...                   ...     ...           ...         ...          ...   \n",
       "36765 2022-02-08 18:30:00      VW           986         YYZ          320   \n",
       "36766 2022-02-08 19:30:00      LJ           579         YQU          319   \n",
       "36767 2022-02-08 19:40:00      LJ           506         YUL          319   \n",
       "36768 2022-02-08 19:05:00      CL          2708         DAN          73H   \n",
       "36769 2022-02-08 20:35:00      CL          3140         HFD          73H   \n",
       "\n",
       "      FlightType Sector  SeatCapacity  LoadFactor  \n",
       "0              J     US           142    0.408451  \n",
       "1              J     CA            74    0.189189  \n",
       "2              J     US           142    0.570423  \n",
       "3              J     US            72    0.333333  \n",
       "4              J     US           186    0.204301  \n",
       "...          ...    ...           ...         ...  \n",
       "36765          J     CA           180    0.522222  \n",
       "36766          J     CA           156    0.532051  \n",
       "36767          J     CA           156    0.602564  \n",
       "36768          J     US           189    0.417989  \n",
       "36769          J     US           189    0.497354  \n",
       "\n",
       "[36770 rows x 9 columns]"
      ]
     },
     "execution_count": 294,
     "metadata": {},
     "output_type": "execute_result"
    }
   ],
   "source": [
    "data = pd.read_excel('Case1_data.xlsx')\n",
    "data"
   ]
  },
  {
   "cell_type": "code",
   "execution_count": 295,
   "id": "f1db0e30",
   "metadata": {},
   "outputs": [
    {
     "data": {
      "text/plain": [
       "array(['C', 'G', 'J'], dtype=object)"
      ]
     },
     "execution_count": 295,
     "metadata": {},
     "output_type": "execute_result"
    }
   ],
   "source": [
    "np.unique(data.FlightType)"
   ]
  },
  {
   "cell_type": "code",
   "execution_count": 296,
   "id": "df2560ff",
   "metadata": {},
   "outputs": [
    {
     "data": {
      "text/html": [
       "<div>\n",
       "<style scoped>\n",
       "    .dataframe tbody tr th:only-of-type {\n",
       "        vertical-align: middle;\n",
       "    }\n",
       "\n",
       "    .dataframe tbody tr th {\n",
       "        vertical-align: top;\n",
       "    }\n",
       "\n",
       "    .dataframe thead th {\n",
       "        text-align: right;\n",
       "    }\n",
       "</style>\n",
       "<table border=\"1\" class=\"dataframe\">\n",
       "  <thead>\n",
       "    <tr style=\"text-align: right;\">\n",
       "      <th></th>\n",
       "      <th>ScheduleTime</th>\n",
       "      <th>Airline</th>\n",
       "      <th>FlightNumber</th>\n",
       "      <th>Destination</th>\n",
       "      <th>AircraftType</th>\n",
       "      <th>FlightType</th>\n",
       "      <th>Sector</th>\n",
       "      <th>SeatCapacity</th>\n",
       "      <th>LoadFactor</th>\n",
       "    </tr>\n",
       "  </thead>\n",
       "  <tbody>\n",
       "    <tr>\n",
       "      <th>72</th>\n",
       "      <td>2021-01-03 11:55:00</td>\n",
       "      <td>VW</td>\n",
       "      <td>771</td>\n",
       "      <td>YYZ</td>\n",
       "      <td>319</td>\n",
       "      <td>J</td>\n",
       "      <td>CA</td>\n",
       "      <td>143</td>\n",
       "      <td>0.825175</td>\n",
       "    </tr>\n",
       "    <tr>\n",
       "      <th>170</th>\n",
       "      <td>2021-01-05 12:15:00</td>\n",
       "      <td>VW</td>\n",
       "      <td>771</td>\n",
       "      <td>YYZ</td>\n",
       "      <td>32N</td>\n",
       "      <td>J</td>\n",
       "      <td>CA</td>\n",
       "      <td>180</td>\n",
       "      <td>0.394444</td>\n",
       "    </tr>\n",
       "    <tr>\n",
       "      <th>2473</th>\n",
       "      <td>2021-04-17 13:25:00</td>\n",
       "      <td>VW</td>\n",
       "      <td>771</td>\n",
       "      <td>YYZ</td>\n",
       "      <td>32A</td>\n",
       "      <td>J</td>\n",
       "      <td>CA</td>\n",
       "      <td>180</td>\n",
       "      <td>0.338889</td>\n",
       "    </tr>\n",
       "    <tr>\n",
       "      <th>2533</th>\n",
       "      <td>2021-04-19 14:20:00</td>\n",
       "      <td>VW</td>\n",
       "      <td>771</td>\n",
       "      <td>YYZ</td>\n",
       "      <td>320</td>\n",
       "      <td>J</td>\n",
       "      <td>CA</td>\n",
       "      <td>180</td>\n",
       "      <td>0.527778</td>\n",
       "    </tr>\n",
       "    <tr>\n",
       "      <th>2721</th>\n",
       "      <td>2021-04-26 13:10:00</td>\n",
       "      <td>VW</td>\n",
       "      <td>771</td>\n",
       "      <td>YYZ</td>\n",
       "      <td>32N</td>\n",
       "      <td>J</td>\n",
       "      <td>CA</td>\n",
       "      <td>180</td>\n",
       "      <td>0.355556</td>\n",
       "    </tr>\n",
       "    <tr>\n",
       "      <th>...</th>\n",
       "      <td>...</td>\n",
       "      <td>...</td>\n",
       "      <td>...</td>\n",
       "      <td>...</td>\n",
       "      <td>...</td>\n",
       "      <td>...</td>\n",
       "      <td>...</td>\n",
       "      <td>...</td>\n",
       "      <td>...</td>\n",
       "    </tr>\n",
       "    <tr>\n",
       "      <th>36659</th>\n",
       "      <td>2022-02-06 08:20:00</td>\n",
       "      <td>CL</td>\n",
       "      <td>771</td>\n",
       "      <td>YQR</td>\n",
       "      <td>73H</td>\n",
       "      <td>J</td>\n",
       "      <td>CA</td>\n",
       "      <td>189</td>\n",
       "      <td>0.825397</td>\n",
       "    </tr>\n",
       "    <tr>\n",
       "      <th>36685</th>\n",
       "      <td>2022-02-06 16:55:00</td>\n",
       "      <td>CL</td>\n",
       "      <td>771</td>\n",
       "      <td>YQR</td>\n",
       "      <td>73H</td>\n",
       "      <td>J</td>\n",
       "      <td>CA</td>\n",
       "      <td>189</td>\n",
       "      <td>0.915344</td>\n",
       "    </tr>\n",
       "    <tr>\n",
       "      <th>36705</th>\n",
       "      <td>2022-02-07 08:10:00</td>\n",
       "      <td>CL</td>\n",
       "      <td>771</td>\n",
       "      <td>YQR</td>\n",
       "      <td>73H</td>\n",
       "      <td>J</td>\n",
       "      <td>CA</td>\n",
       "      <td>189</td>\n",
       "      <td>0.656085</td>\n",
       "    </tr>\n",
       "    <tr>\n",
       "      <th>36723</th>\n",
       "      <td>2022-02-07 14:30:00</td>\n",
       "      <td>CL</td>\n",
       "      <td>771</td>\n",
       "      <td>YQR</td>\n",
       "      <td>73H</td>\n",
       "      <td>J</td>\n",
       "      <td>CA</td>\n",
       "      <td>189</td>\n",
       "      <td>0.814815</td>\n",
       "    </tr>\n",
       "    <tr>\n",
       "      <th>36747</th>\n",
       "      <td>2022-02-08 07:30:00</td>\n",
       "      <td>CL</td>\n",
       "      <td>771</td>\n",
       "      <td>YQR</td>\n",
       "      <td>73H</td>\n",
       "      <td>J</td>\n",
       "      <td>CA</td>\n",
       "      <td>189</td>\n",
       "      <td>0.285714</td>\n",
       "    </tr>\n",
       "  </tbody>\n",
       "</table>\n",
       "<p>341 rows × 9 columns</p>\n",
       "</div>"
      ],
      "text/plain": [
       "             ScheduleTime Airline  FlightNumber Destination AircraftType  \\\n",
       "72    2021-01-03 11:55:00      VW           771         YYZ          319   \n",
       "170   2021-01-05 12:15:00      VW           771         YYZ          32N   \n",
       "2473  2021-04-17 13:25:00      VW           771         YYZ          32A   \n",
       "2533  2021-04-19 14:20:00      VW           771         YYZ          320   \n",
       "2721  2021-04-26 13:10:00      VW           771         YYZ          32N   \n",
       "...                   ...     ...           ...         ...          ...   \n",
       "36659 2022-02-06 08:20:00      CL           771         YQR          73H   \n",
       "36685 2022-02-06 16:55:00      CL           771         YQR          73H   \n",
       "36705 2022-02-07 08:10:00      CL           771         YQR          73H   \n",
       "36723 2022-02-07 14:30:00      CL           771         YQR          73H   \n",
       "36747 2022-02-08 07:30:00      CL           771         YQR          73H   \n",
       "\n",
       "      FlightType Sector  SeatCapacity  LoadFactor  \n",
       "72             J     CA           143    0.825175  \n",
       "170            J     CA           180    0.394444  \n",
       "2473           J     CA           180    0.338889  \n",
       "2533           J     CA           180    0.527778  \n",
       "2721           J     CA           180    0.355556  \n",
       "...          ...    ...           ...         ...  \n",
       "36659          J     CA           189    0.825397  \n",
       "36685          J     CA           189    0.915344  \n",
       "36705          J     CA           189    0.656085  \n",
       "36723          J     CA           189    0.814815  \n",
       "36747          J     CA           189    0.285714  \n",
       "\n",
       "[341 rows x 9 columns]"
      ]
     },
     "execution_count": 296,
     "metadata": {},
     "output_type": "execute_result"
    }
   ],
   "source": [
    "data[data.FlightNumber==771]"
   ]
  },
  {
   "cell_type": "markdown",
   "id": "cce25c51",
   "metadata": {},
   "source": [
    "From the type of variable we are gonna drop FlightNumber as a feature as it is considered to be irrellevant for the load factor"
   ]
  },
  {
   "cell_type": "code",
   "execution_count": 297,
   "id": "5aa9dbcf",
   "metadata": {},
   "outputs": [
    {
     "data": {
      "text/html": [
       "<div>\n",
       "<style scoped>\n",
       "    .dataframe tbody tr th:only-of-type {\n",
       "        vertical-align: middle;\n",
       "    }\n",
       "\n",
       "    .dataframe tbody tr th {\n",
       "        vertical-align: top;\n",
       "    }\n",
       "\n",
       "    .dataframe thead th {\n",
       "        text-align: right;\n",
       "    }\n",
       "</style>\n",
       "<table border=\"1\" class=\"dataframe\">\n",
       "  <thead>\n",
       "    <tr style=\"text-align: right;\">\n",
       "      <th></th>\n",
       "      <th>ScheduleTime</th>\n",
       "      <th>Airline</th>\n",
       "      <th>Destination</th>\n",
       "      <th>AircraftType</th>\n",
       "      <th>FlightType</th>\n",
       "      <th>Sector</th>\n",
       "      <th>SeatCapacity</th>\n",
       "      <th>LoadFactor</th>\n",
       "    </tr>\n",
       "  </thead>\n",
       "  <tbody>\n",
       "    <tr>\n",
       "      <th>0</th>\n",
       "      <td>2021-01-01 06:35:00</td>\n",
       "      <td>IA</td>\n",
       "      <td>DEN</td>\n",
       "      <td>73W</td>\n",
       "      <td>J</td>\n",
       "      <td>US</td>\n",
       "      <td>142</td>\n",
       "      <td>0.408451</td>\n",
       "    </tr>\n",
       "    <tr>\n",
       "      <th>1</th>\n",
       "      <td>2021-01-01 10:35:00</td>\n",
       "      <td>JZ</td>\n",
       "      <td>YHM</td>\n",
       "      <td>AT7</td>\n",
       "      <td>J</td>\n",
       "      <td>CA</td>\n",
       "      <td>74</td>\n",
       "      <td>0.189189</td>\n",
       "    </tr>\n",
       "    <tr>\n",
       "      <th>2</th>\n",
       "      <td>2021-01-01 12:05:00</td>\n",
       "      <td>IA</td>\n",
       "      <td>DEN</td>\n",
       "      <td>73W</td>\n",
       "      <td>J</td>\n",
       "      <td>US</td>\n",
       "      <td>142</td>\n",
       "      <td>0.570423</td>\n",
       "    </tr>\n",
       "    <tr>\n",
       "      <th>3</th>\n",
       "      <td>2021-01-01 13:20:00</td>\n",
       "      <td>CN</td>\n",
       "      <td>EST</td>\n",
       "      <td>AT7</td>\n",
       "      <td>J</td>\n",
       "      <td>US</td>\n",
       "      <td>72</td>\n",
       "      <td>0.333333</td>\n",
       "    </tr>\n",
       "    <tr>\n",
       "      <th>4</th>\n",
       "      <td>2021-01-01 14:20:00</td>\n",
       "      <td>LJ</td>\n",
       "      <td>DEN</td>\n",
       "      <td>32A</td>\n",
       "      <td>J</td>\n",
       "      <td>US</td>\n",
       "      <td>186</td>\n",
       "      <td>0.204301</td>\n",
       "    </tr>\n",
       "    <tr>\n",
       "      <th>...</th>\n",
       "      <td>...</td>\n",
       "      <td>...</td>\n",
       "      <td>...</td>\n",
       "      <td>...</td>\n",
       "      <td>...</td>\n",
       "      <td>...</td>\n",
       "      <td>...</td>\n",
       "      <td>...</td>\n",
       "    </tr>\n",
       "    <tr>\n",
       "      <th>36765</th>\n",
       "      <td>2022-02-08 18:30:00</td>\n",
       "      <td>VW</td>\n",
       "      <td>YYZ</td>\n",
       "      <td>320</td>\n",
       "      <td>J</td>\n",
       "      <td>CA</td>\n",
       "      <td>180</td>\n",
       "      <td>0.522222</td>\n",
       "    </tr>\n",
       "    <tr>\n",
       "      <th>36766</th>\n",
       "      <td>2022-02-08 19:30:00</td>\n",
       "      <td>LJ</td>\n",
       "      <td>YQU</td>\n",
       "      <td>319</td>\n",
       "      <td>J</td>\n",
       "      <td>CA</td>\n",
       "      <td>156</td>\n",
       "      <td>0.532051</td>\n",
       "    </tr>\n",
       "    <tr>\n",
       "      <th>36767</th>\n",
       "      <td>2022-02-08 19:40:00</td>\n",
       "      <td>LJ</td>\n",
       "      <td>YUL</td>\n",
       "      <td>319</td>\n",
       "      <td>J</td>\n",
       "      <td>CA</td>\n",
       "      <td>156</td>\n",
       "      <td>0.602564</td>\n",
       "    </tr>\n",
       "    <tr>\n",
       "      <th>36768</th>\n",
       "      <td>2022-02-08 19:05:00</td>\n",
       "      <td>CL</td>\n",
       "      <td>DAN</td>\n",
       "      <td>73H</td>\n",
       "      <td>J</td>\n",
       "      <td>US</td>\n",
       "      <td>189</td>\n",
       "      <td>0.417989</td>\n",
       "    </tr>\n",
       "    <tr>\n",
       "      <th>36769</th>\n",
       "      <td>2022-02-08 20:35:00</td>\n",
       "      <td>CL</td>\n",
       "      <td>HFD</td>\n",
       "      <td>73H</td>\n",
       "      <td>J</td>\n",
       "      <td>US</td>\n",
       "      <td>189</td>\n",
       "      <td>0.497354</td>\n",
       "    </tr>\n",
       "  </tbody>\n",
       "</table>\n",
       "<p>36770 rows × 8 columns</p>\n",
       "</div>"
      ],
      "text/plain": [
       "             ScheduleTime Airline Destination AircraftType FlightType Sector  \\\n",
       "0     2021-01-01 06:35:00      IA         DEN          73W          J     US   \n",
       "1     2021-01-01 10:35:00      JZ         YHM          AT7          J     CA   \n",
       "2     2021-01-01 12:05:00      IA         DEN          73W          J     US   \n",
       "3     2021-01-01 13:20:00      CN         EST          AT7          J     US   \n",
       "4     2021-01-01 14:20:00      LJ         DEN          32A          J     US   \n",
       "...                   ...     ...         ...          ...        ...    ...   \n",
       "36765 2022-02-08 18:30:00      VW         YYZ          320          J     CA   \n",
       "36766 2022-02-08 19:30:00      LJ         YQU          319          J     CA   \n",
       "36767 2022-02-08 19:40:00      LJ         YUL          319          J     CA   \n",
       "36768 2022-02-08 19:05:00      CL         DAN          73H          J     US   \n",
       "36769 2022-02-08 20:35:00      CL         HFD          73H          J     US   \n",
       "\n",
       "       SeatCapacity  LoadFactor  \n",
       "0               142    0.408451  \n",
       "1                74    0.189189  \n",
       "2               142    0.570423  \n",
       "3                72    0.333333  \n",
       "4               186    0.204301  \n",
       "...             ...         ...  \n",
       "36765           180    0.522222  \n",
       "36766           156    0.532051  \n",
       "36767           156    0.602564  \n",
       "36768           189    0.417989  \n",
       "36769           189    0.497354  \n",
       "\n",
       "[36770 rows x 8 columns]"
      ]
     },
     "execution_count": 297,
     "metadata": {},
     "output_type": "execute_result"
    }
   ],
   "source": [
    "data=data.drop(columns=['FlightNumber'])\n",
    "data"
   ]
  },
  {
   "cell_type": "markdown",
   "id": "97748997",
   "metadata": {},
   "source": [
    "Let's visualize some summary stats of the dataset"
   ]
  },
  {
   "cell_type": "code",
   "execution_count": 298,
   "id": "42495572",
   "metadata": {},
   "outputs": [
    {
     "data": {
      "text/html": [
       "<div>\n",
       "<style scoped>\n",
       "    .dataframe tbody tr th:only-of-type {\n",
       "        vertical-align: middle;\n",
       "    }\n",
       "\n",
       "    .dataframe tbody tr th {\n",
       "        vertical-align: top;\n",
       "    }\n",
       "\n",
       "    .dataframe thead th {\n",
       "        text-align: right;\n",
       "    }\n",
       "</style>\n",
       "<table border=\"1\" class=\"dataframe\">\n",
       "  <thead>\n",
       "    <tr style=\"text-align: right;\">\n",
       "      <th></th>\n",
       "      <th>SeatCapacity</th>\n",
       "      <th>LoadFactor</th>\n",
       "    </tr>\n",
       "  </thead>\n",
       "  <tbody>\n",
       "    <tr>\n",
       "      <th>count</th>\n",
       "      <td>36770.000000</td>\n",
       "      <td>36770.000000</td>\n",
       "    </tr>\n",
       "    <tr>\n",
       "      <th>mean</th>\n",
       "      <td>155.285504</td>\n",
       "      <td>0.531752</td>\n",
       "    </tr>\n",
       "    <tr>\n",
       "      <th>std</th>\n",
       "      <td>58.851799</td>\n",
       "      <td>0.272192</td>\n",
       "    </tr>\n",
       "    <tr>\n",
       "      <th>min</th>\n",
       "      <td>10.000000</td>\n",
       "      <td>0.000000</td>\n",
       "    </tr>\n",
       "    <tr>\n",
       "      <th>25%</th>\n",
       "      <td>98.000000</td>\n",
       "      <td>0.305556</td>\n",
       "    </tr>\n",
       "    <tr>\n",
       "      <th>50%</th>\n",
       "      <td>180.000000</td>\n",
       "      <td>0.532258</td>\n",
       "    </tr>\n",
       "    <tr>\n",
       "      <th>75%</th>\n",
       "      <td>189.000000</td>\n",
       "      <td>0.769852</td>\n",
       "    </tr>\n",
       "    <tr>\n",
       "      <th>max</th>\n",
       "      <td>451.000000</td>\n",
       "      <td>1.475177</td>\n",
       "    </tr>\n",
       "  </tbody>\n",
       "</table>\n",
       "</div>"
      ],
      "text/plain": [
       "       SeatCapacity    LoadFactor\n",
       "count  36770.000000  36770.000000\n",
       "mean     155.285504      0.531752\n",
       "std       58.851799      0.272192\n",
       "min       10.000000      0.000000\n",
       "25%       98.000000      0.305556\n",
       "50%      180.000000      0.532258\n",
       "75%      189.000000      0.769852\n",
       "max      451.000000      1.475177"
      ]
     },
     "execution_count": 298,
     "metadata": {},
     "output_type": "execute_result"
    }
   ],
   "source": [
    "data.describe()"
   ]
  },
  {
   "cell_type": "markdown",
   "id": "b75184d9",
   "metadata": {},
   "source": [
    "Check missing values:"
   ]
  },
  {
   "cell_type": "code",
   "execution_count": 299,
   "id": "8dcf0123",
   "metadata": {},
   "outputs": [
    {
     "name": "stdout",
     "output_type": "stream",
     "text": [
      "ScheduleTime 0\n",
      "Airline 1\n",
      "Destination 2\n",
      "AircraftType 0\n",
      "FlightType 0\n",
      "Sector 2\n",
      "SeatCapacity 0\n",
      "LoadFactor 0\n"
     ]
    }
   ],
   "source": [
    "for el in data:\n",
    "    print(el,sum(data[el].isnull()))"
   ]
  },
  {
   "cell_type": "markdown",
   "id": "237c97e7",
   "metadata": {},
   "source": [
    "There are just 5 missing values in a 36770 observations dataset. Thus, the best apporach corresponds to delete this observations that contain a missing value."
   ]
  },
  {
   "cell_type": "code",
   "execution_count": 300,
   "id": "30bc8522",
   "metadata": {},
   "outputs": [],
   "source": [
    "is_NaN = data.isnull();row_has_NaN = is_NaN.any(axis=1);rows_with_NaN = data[row_has_NaN]\n",
    "\n",
    "data = data.drop(list(rows_with_NaN.index))"
   ]
  },
  {
   "cell_type": "code",
   "execution_count": 301,
   "id": "9cf11ccf",
   "metadata": {},
   "outputs": [
    {
     "data": {
      "text/html": [
       "<div>\n",
       "<style scoped>\n",
       "    .dataframe tbody tr th:only-of-type {\n",
       "        vertical-align: middle;\n",
       "    }\n",
       "\n",
       "    .dataframe tbody tr th {\n",
       "        vertical-align: top;\n",
       "    }\n",
       "\n",
       "    .dataframe thead th {\n",
       "        text-align: right;\n",
       "    }\n",
       "</style>\n",
       "<table border=\"1\" class=\"dataframe\">\n",
       "  <thead>\n",
       "    <tr style=\"text-align: right;\">\n",
       "      <th></th>\n",
       "      <th>index</th>\n",
       "      <th>ScheduleTime</th>\n",
       "      <th>Airline</th>\n",
       "      <th>Destination</th>\n",
       "      <th>AircraftType</th>\n",
       "      <th>FlightType</th>\n",
       "      <th>Sector</th>\n",
       "      <th>SeatCapacity</th>\n",
       "      <th>LoadFactor</th>\n",
       "    </tr>\n",
       "  </thead>\n",
       "  <tbody>\n",
       "    <tr>\n",
       "      <th>0</th>\n",
       "      <td>0</td>\n",
       "      <td>2021-01-01 06:35:00</td>\n",
       "      <td>IA</td>\n",
       "      <td>DEN</td>\n",
       "      <td>73W</td>\n",
       "      <td>J</td>\n",
       "      <td>US</td>\n",
       "      <td>142</td>\n",
       "      <td>0.408451</td>\n",
       "    </tr>\n",
       "    <tr>\n",
       "      <th>1</th>\n",
       "      <td>1</td>\n",
       "      <td>2021-01-01 10:35:00</td>\n",
       "      <td>JZ</td>\n",
       "      <td>YHM</td>\n",
       "      <td>AT7</td>\n",
       "      <td>J</td>\n",
       "      <td>CA</td>\n",
       "      <td>74</td>\n",
       "      <td>0.189189</td>\n",
       "    </tr>\n",
       "    <tr>\n",
       "      <th>2</th>\n",
       "      <td>2</td>\n",
       "      <td>2021-01-01 12:05:00</td>\n",
       "      <td>IA</td>\n",
       "      <td>DEN</td>\n",
       "      <td>73W</td>\n",
       "      <td>J</td>\n",
       "      <td>US</td>\n",
       "      <td>142</td>\n",
       "      <td>0.570423</td>\n",
       "    </tr>\n",
       "    <tr>\n",
       "      <th>3</th>\n",
       "      <td>3</td>\n",
       "      <td>2021-01-01 13:20:00</td>\n",
       "      <td>CN</td>\n",
       "      <td>EST</td>\n",
       "      <td>AT7</td>\n",
       "      <td>J</td>\n",
       "      <td>US</td>\n",
       "      <td>72</td>\n",
       "      <td>0.333333</td>\n",
       "    </tr>\n",
       "    <tr>\n",
       "      <th>4</th>\n",
       "      <td>4</td>\n",
       "      <td>2021-01-01 14:20:00</td>\n",
       "      <td>LJ</td>\n",
       "      <td>DEN</td>\n",
       "      <td>32A</td>\n",
       "      <td>J</td>\n",
       "      <td>US</td>\n",
       "      <td>186</td>\n",
       "      <td>0.204301</td>\n",
       "    </tr>\n",
       "    <tr>\n",
       "      <th>...</th>\n",
       "      <td>...</td>\n",
       "      <td>...</td>\n",
       "      <td>...</td>\n",
       "      <td>...</td>\n",
       "      <td>...</td>\n",
       "      <td>...</td>\n",
       "      <td>...</td>\n",
       "      <td>...</td>\n",
       "      <td>...</td>\n",
       "    </tr>\n",
       "    <tr>\n",
       "      <th>36763</th>\n",
       "      <td>36765</td>\n",
       "      <td>2022-02-08 18:30:00</td>\n",
       "      <td>VW</td>\n",
       "      <td>YYZ</td>\n",
       "      <td>320</td>\n",
       "      <td>J</td>\n",
       "      <td>CA</td>\n",
       "      <td>180</td>\n",
       "      <td>0.522222</td>\n",
       "    </tr>\n",
       "    <tr>\n",
       "      <th>36764</th>\n",
       "      <td>36766</td>\n",
       "      <td>2022-02-08 19:30:00</td>\n",
       "      <td>LJ</td>\n",
       "      <td>YQU</td>\n",
       "      <td>319</td>\n",
       "      <td>J</td>\n",
       "      <td>CA</td>\n",
       "      <td>156</td>\n",
       "      <td>0.532051</td>\n",
       "    </tr>\n",
       "    <tr>\n",
       "      <th>36765</th>\n",
       "      <td>36767</td>\n",
       "      <td>2022-02-08 19:40:00</td>\n",
       "      <td>LJ</td>\n",
       "      <td>YUL</td>\n",
       "      <td>319</td>\n",
       "      <td>J</td>\n",
       "      <td>CA</td>\n",
       "      <td>156</td>\n",
       "      <td>0.602564</td>\n",
       "    </tr>\n",
       "    <tr>\n",
       "      <th>36766</th>\n",
       "      <td>36768</td>\n",
       "      <td>2022-02-08 19:05:00</td>\n",
       "      <td>CL</td>\n",
       "      <td>DAN</td>\n",
       "      <td>73H</td>\n",
       "      <td>J</td>\n",
       "      <td>US</td>\n",
       "      <td>189</td>\n",
       "      <td>0.417989</td>\n",
       "    </tr>\n",
       "    <tr>\n",
       "      <th>36767</th>\n",
       "      <td>36769</td>\n",
       "      <td>2022-02-08 20:35:00</td>\n",
       "      <td>CL</td>\n",
       "      <td>HFD</td>\n",
       "      <td>73H</td>\n",
       "      <td>J</td>\n",
       "      <td>US</td>\n",
       "      <td>189</td>\n",
       "      <td>0.497354</td>\n",
       "    </tr>\n",
       "  </tbody>\n",
       "</table>\n",
       "<p>36768 rows × 9 columns</p>\n",
       "</div>"
      ],
      "text/plain": [
       "       index        ScheduleTime Airline Destination AircraftType FlightType  \\\n",
       "0          0 2021-01-01 06:35:00      IA         DEN          73W          J   \n",
       "1          1 2021-01-01 10:35:00      JZ         YHM          AT7          J   \n",
       "2          2 2021-01-01 12:05:00      IA         DEN          73W          J   \n",
       "3          3 2021-01-01 13:20:00      CN         EST          AT7          J   \n",
       "4          4 2021-01-01 14:20:00      LJ         DEN          32A          J   \n",
       "...      ...                 ...     ...         ...          ...        ...   \n",
       "36763  36765 2022-02-08 18:30:00      VW         YYZ          320          J   \n",
       "36764  36766 2022-02-08 19:30:00      LJ         YQU          319          J   \n",
       "36765  36767 2022-02-08 19:40:00      LJ         YUL          319          J   \n",
       "36766  36768 2022-02-08 19:05:00      CL         DAN          73H          J   \n",
       "36767  36769 2022-02-08 20:35:00      CL         HFD          73H          J   \n",
       "\n",
       "      Sector  SeatCapacity  LoadFactor  \n",
       "0         US           142    0.408451  \n",
       "1         CA            74    0.189189  \n",
       "2         US           142    0.570423  \n",
       "3         US            72    0.333333  \n",
       "4         US           186    0.204301  \n",
       "...      ...           ...         ...  \n",
       "36763     CA           180    0.522222  \n",
       "36764     CA           156    0.532051  \n",
       "36765     CA           156    0.602564  \n",
       "36766     US           189    0.417989  \n",
       "36767     US           189    0.497354  \n",
       "\n",
       "[36768 rows x 9 columns]"
      ]
     },
     "execution_count": 301,
     "metadata": {},
     "output_type": "execute_result"
    }
   ],
   "source": [
    "data=data.reset_index()\n",
    "data"
   ]
  },
  {
   "cell_type": "code",
   "execution_count": 302,
   "id": "71005dd5",
   "metadata": {},
   "outputs": [],
   "source": [
    "data.AircraftType=data.AircraftType.astype('str')"
   ]
  },
  {
   "cell_type": "markdown",
   "id": "113daf46",
   "metadata": {},
   "source": [
    "Let's encode now all the string variables"
   ]
  },
  {
   "cell_type": "code",
   "execution_count": 303,
   "id": "3a7fead4",
   "metadata": {},
   "outputs": [],
   "source": [
    "from sklearn.preprocessing import OneHotEncoder"
   ]
  },
  {
   "cell_type": "code",
   "execution_count": 304,
   "id": "3be3b36c",
   "metadata": {},
   "outputs": [],
   "source": [
    "# creating instance of one-hot-encoder\n",
    "enc = OneHotEncoder(handle_unknown='ignore')\n",
    "# passing bridge-types-cat column (label encoded values of bridge_types)\n",
    "enc_df = pd.DataFrame(enc.fit_transform(data[['Airline']]).toarray())\n",
    "airline_d={}\n",
    "for i in range (0,len(np.unique(data.Airline))):\n",
    "    airline_d[i]=enc.categories_[0][i]\n",
    "enc_df=enc_df.rename(columns=airline_d)"
   ]
  },
  {
   "cell_type": "markdown",
   "id": "a651fab9",
   "metadata": {},
   "source": [
    "Shape 95 columns"
   ]
  },
  {
   "cell_type": "code",
   "execution_count": 305,
   "id": "8e049514",
   "metadata": {},
   "outputs": [
    {
     "data": {
      "text/plain": [
       "['Airline', 'Destination', 'AircraftType', 'FlightType', 'Sector']"
      ]
     },
     "execution_count": 305,
     "metadata": {},
     "output_type": "execute_result"
    }
   ],
   "source": [
    "# variables we need to encode\n",
    "encode_var=list(data.keys())[2:-2]\n",
    "encode_var"
   ]
  },
  {
   "cell_type": "markdown",
   "id": "c490c00f",
   "metadata": {},
   "source": [
    "for var in encode_var:\n",
    "    # creating instance of one-hot-encoder\n",
    "    enc = OneHotEncoder(handle_unknown='ignore')\n",
    "    # passing bridge-types-cat column (label encoded values of bridge_types)\n",
    "    enc_df1 = pd.DataFrame(enc.fit_transform(data[[var]]).toarray())\n",
    "    d={}\n",
    "    for i in range (0,len(np.unique(data.var))):\n",
    "        d[i]=enc.categories_[0][i]\n",
    "    enc_df1=enc_df1.rename(columns=d)\n",
    "    print(enc.categories_[0])\n",
    "    enc_df = pd.concat([enc_df,enc_df1], axis = 1)\n",
    "enc_df"
   ]
  },
  {
   "cell_type": "code",
   "execution_count": 306,
   "id": "0a6da681",
   "metadata": {},
   "outputs": [],
   "source": [
    "# creating instance of one-hot-encoder\n",
    "enc = OneHotEncoder(handle_unknown='ignore')\n",
    "# passing bridge-types-cat column (label encoded values of bridge_types)\n",
    "enc_df2 = pd.DataFrame(enc.fit_transform(data[['Destination']]).toarray())\n",
    "destination_d={}\n",
    "for i in range (0,len(np.unique(data.Destination))):\n",
    "    destination_d[i]=enc.categories_[0][i]\n",
    "enc_df2=enc_df2.rename(columns=destination_d)"
   ]
  },
  {
   "cell_type": "markdown",
   "id": "7a1305eb",
   "metadata": {},
   "source": [
    "Shape 230 columns"
   ]
  },
  {
   "cell_type": "code",
   "execution_count": 307,
   "id": "92bb707e",
   "metadata": {},
   "outputs": [],
   "source": [
    "# creating instance of one-hot-encoder\n",
    "enc = OneHotEncoder(handle_unknown='ignore')\n",
    "# passing bridge-types-cat column (label encoded values of bridge_types)\n",
    "enc_df3 = pd.DataFrame(enc.fit_transform(data[['AircraftType']]).toarray())\n",
    "destination_d={}\n",
    "for i in range (0,len(np.unique(data.AircraftType))):\n",
    "    destination_d[i]=enc.categories_[0][i]\n",
    "enc_df3=enc_df3.rename(columns=destination_d)"
   ]
  },
  {
   "cell_type": "code",
   "execution_count": 308,
   "id": "87fe6ff2",
   "metadata": {},
   "outputs": [
    {
     "data": {
      "text/plain": [
       "56"
      ]
     },
     "execution_count": 308,
     "metadata": {},
     "output_type": "execute_result"
    }
   ],
   "source": [
    "enc_df3.shape[1]"
   ]
  },
  {
   "cell_type": "code",
   "execution_count": 309,
   "id": "b7748fd1",
   "metadata": {},
   "outputs": [],
   "source": [
    "# creating instance of one-hot-encoder\n",
    "enc = OneHotEncoder(handle_unknown='ignore')\n",
    "# passing bridge-types-cat column (label encoded values of bridge_types)\n",
    "enc_df4 = pd.DataFrame(enc.fit_transform(data[['FlightType']]).toarray())\n",
    "destination_d={}\n",
    "for i in range (0,len(np.unique(data.FlightType))):\n",
    "    destination_d[i]=enc.categories_[0][i]\n",
    "enc_df4=enc_df4.rename(columns=destination_d)"
   ]
  },
  {
   "cell_type": "code",
   "execution_count": 310,
   "id": "87aa3a10",
   "metadata": {},
   "outputs": [],
   "source": [
    "# creating instance of one-hot-encoder\n",
    "enc = OneHotEncoder(handle_unknown='ignore')\n",
    "# passing bridge-types-cat column (label encoded values of bridge_types)\n",
    "enc_df5 = pd.DataFrame(enc.fit_transform(data[['Sector']]).toarray())\n",
    "destination_d={}\n",
    "for i in range (0,len(np.unique(data.Sector))):\n",
    "    destination_d[i]=enc.categories_[0][i]\n",
    "enc_df5=enc_df5.rename(columns=destination_d)"
   ]
  },
  {
   "cell_type": "markdown",
   "id": "4f757a6e",
   "metadata": {},
   "source": [
    "We could do a loop, but until now this works.\n",
    "\n",
    "Then we change the ScheduleTime column to different columns with different time unit"
   ]
  },
  {
   "cell_type": "code",
   "execution_count": 311,
   "id": "5bb4cd55",
   "metadata": {},
   "outputs": [
    {
     "data": {
      "text/html": [
       "<div>\n",
       "<style scoped>\n",
       "    .dataframe tbody tr th:only-of-type {\n",
       "        vertical-align: middle;\n",
       "    }\n",
       "\n",
       "    .dataframe tbody tr th {\n",
       "        vertical-align: top;\n",
       "    }\n",
       "\n",
       "    .dataframe thead th {\n",
       "        text-align: right;\n",
       "    }\n",
       "</style>\n",
       "<table border=\"1\" class=\"dataframe\">\n",
       "  <thead>\n",
       "    <tr style=\"text-align: right;\">\n",
       "      <th></th>\n",
       "      <th>Day</th>\n",
       "      <th>Month</th>\n",
       "      <th>Year</th>\n",
       "      <th>Hour</th>\n",
       "      <th>Minute</th>\n",
       "    </tr>\n",
       "  </thead>\n",
       "  <tbody>\n",
       "    <tr>\n",
       "      <th>0</th>\n",
       "      <td>1</td>\n",
       "      <td>1</td>\n",
       "      <td>2021</td>\n",
       "      <td>6</td>\n",
       "      <td>35</td>\n",
       "    </tr>\n",
       "    <tr>\n",
       "      <th>1</th>\n",
       "      <td>1</td>\n",
       "      <td>1</td>\n",
       "      <td>2021</td>\n",
       "      <td>10</td>\n",
       "      <td>35</td>\n",
       "    </tr>\n",
       "    <tr>\n",
       "      <th>2</th>\n",
       "      <td>1</td>\n",
       "      <td>1</td>\n",
       "      <td>2021</td>\n",
       "      <td>12</td>\n",
       "      <td>5</td>\n",
       "    </tr>\n",
       "    <tr>\n",
       "      <th>3</th>\n",
       "      <td>1</td>\n",
       "      <td>1</td>\n",
       "      <td>2021</td>\n",
       "      <td>13</td>\n",
       "      <td>20</td>\n",
       "    </tr>\n",
       "    <tr>\n",
       "      <th>4</th>\n",
       "      <td>1</td>\n",
       "      <td>1</td>\n",
       "      <td>2021</td>\n",
       "      <td>14</td>\n",
       "      <td>20</td>\n",
       "    </tr>\n",
       "    <tr>\n",
       "      <th>...</th>\n",
       "      <td>...</td>\n",
       "      <td>...</td>\n",
       "      <td>...</td>\n",
       "      <td>...</td>\n",
       "      <td>...</td>\n",
       "    </tr>\n",
       "    <tr>\n",
       "      <th>36763</th>\n",
       "      <td>8</td>\n",
       "      <td>2</td>\n",
       "      <td>2022</td>\n",
       "      <td>18</td>\n",
       "      <td>30</td>\n",
       "    </tr>\n",
       "    <tr>\n",
       "      <th>36764</th>\n",
       "      <td>8</td>\n",
       "      <td>2</td>\n",
       "      <td>2022</td>\n",
       "      <td>19</td>\n",
       "      <td>30</td>\n",
       "    </tr>\n",
       "    <tr>\n",
       "      <th>36765</th>\n",
       "      <td>8</td>\n",
       "      <td>2</td>\n",
       "      <td>2022</td>\n",
       "      <td>19</td>\n",
       "      <td>40</td>\n",
       "    </tr>\n",
       "    <tr>\n",
       "      <th>36766</th>\n",
       "      <td>8</td>\n",
       "      <td>2</td>\n",
       "      <td>2022</td>\n",
       "      <td>19</td>\n",
       "      <td>5</td>\n",
       "    </tr>\n",
       "    <tr>\n",
       "      <th>36767</th>\n",
       "      <td>8</td>\n",
       "      <td>2</td>\n",
       "      <td>2022</td>\n",
       "      <td>20</td>\n",
       "      <td>35</td>\n",
       "    </tr>\n",
       "  </tbody>\n",
       "</table>\n",
       "<p>36768 rows × 5 columns</p>\n",
       "</div>"
      ],
      "text/plain": [
       "       Day  Month  Year  Hour  Minute\n",
       "0        1      1  2021     6      35\n",
       "1        1      1  2021    10      35\n",
       "2        1      1  2021    12       5\n",
       "3        1      1  2021    13      20\n",
       "4        1      1  2021    14      20\n",
       "...    ...    ...   ...   ...     ...\n",
       "36763    8      2  2022    18      30\n",
       "36764    8      2  2022    19      30\n",
       "36765    8      2  2022    19      40\n",
       "36766    8      2  2022    19       5\n",
       "36767    8      2  2022    20      35\n",
       "\n",
       "[36768 rows x 5 columns]"
      ]
     },
     "execution_count": 311,
     "metadata": {},
     "output_type": "execute_result"
    }
   ],
   "source": [
    "DateTime_dic = {'Day':[],'Month':[],'Year':[],'Hour':[],'Minute':[]}\n",
    "\n",
    "for a in data['ScheduleTime']:\n",
    "    DateTime_dic['Day'].append(a.day);DateTime_dic['Month'].append(a.month);DateTime_dic['Year'].append(a.year)\n",
    "    DateTime_dic['Hour'].append(a.hour);DateTime_dic['Minute'].append(a.minute)\n",
    "    \n",
    "pd_time=pd.DataFrame.from_dict(DateTime_dic)\n",
    "pd_time"
   ]
  },
  {
   "cell_type": "code",
   "execution_count": 312,
   "id": "3cc7727b",
   "metadata": {},
   "outputs": [
    {
     "data": {
      "text/html": [
       "<div>\n",
       "<style scoped>\n",
       "    .dataframe tbody tr th:only-of-type {\n",
       "        vertical-align: middle;\n",
       "    }\n",
       "\n",
       "    .dataframe tbody tr th {\n",
       "        vertical-align: top;\n",
       "    }\n",
       "\n",
       "    .dataframe thead th {\n",
       "        text-align: right;\n",
       "    }\n",
       "</style>\n",
       "<table border=\"1\" class=\"dataframe\">\n",
       "  <thead>\n",
       "    <tr style=\"text-align: right;\">\n",
       "      <th></th>\n",
       "      <th>SeatCapacity</th>\n",
       "      <th>LoadFactor</th>\n",
       "    </tr>\n",
       "  </thead>\n",
       "  <tbody>\n",
       "    <tr>\n",
       "      <th>0</th>\n",
       "      <td>142</td>\n",
       "      <td>0.408451</td>\n",
       "    </tr>\n",
       "    <tr>\n",
       "      <th>1</th>\n",
       "      <td>74</td>\n",
       "      <td>0.189189</td>\n",
       "    </tr>\n",
       "    <tr>\n",
       "      <th>2</th>\n",
       "      <td>142</td>\n",
       "      <td>0.570423</td>\n",
       "    </tr>\n",
       "    <tr>\n",
       "      <th>3</th>\n",
       "      <td>72</td>\n",
       "      <td>0.333333</td>\n",
       "    </tr>\n",
       "    <tr>\n",
       "      <th>4</th>\n",
       "      <td>186</td>\n",
       "      <td>0.204301</td>\n",
       "    </tr>\n",
       "    <tr>\n",
       "      <th>...</th>\n",
       "      <td>...</td>\n",
       "      <td>...</td>\n",
       "    </tr>\n",
       "    <tr>\n",
       "      <th>36763</th>\n",
       "      <td>180</td>\n",
       "      <td>0.522222</td>\n",
       "    </tr>\n",
       "    <tr>\n",
       "      <th>36764</th>\n",
       "      <td>156</td>\n",
       "      <td>0.532051</td>\n",
       "    </tr>\n",
       "    <tr>\n",
       "      <th>36765</th>\n",
       "      <td>156</td>\n",
       "      <td>0.602564</td>\n",
       "    </tr>\n",
       "    <tr>\n",
       "      <th>36766</th>\n",
       "      <td>189</td>\n",
       "      <td>0.417989</td>\n",
       "    </tr>\n",
       "    <tr>\n",
       "      <th>36767</th>\n",
       "      <td>189</td>\n",
       "      <td>0.497354</td>\n",
       "    </tr>\n",
       "  </tbody>\n",
       "</table>\n",
       "<p>36768 rows × 2 columns</p>\n",
       "</div>"
      ],
      "text/plain": [
       "       SeatCapacity  LoadFactor\n",
       "0               142    0.408451\n",
       "1                74    0.189189\n",
       "2               142    0.570423\n",
       "3                72    0.333333\n",
       "4               186    0.204301\n",
       "...             ...         ...\n",
       "36763           180    0.522222\n",
       "36764           156    0.532051\n",
       "36765           156    0.602564\n",
       "36766           189    0.417989\n",
       "36767           189    0.497354\n",
       "\n",
       "[36768 rows x 2 columns]"
      ]
     },
     "execution_count": 312,
     "metadata": {},
     "output_type": "execute_result"
    }
   ],
   "source": [
    "data=data.drop(columns=['index','ScheduleTime','Airline','Destination','AircraftType','FlightType','Sector'])\n",
    "data"
   ]
  },
  {
   "cell_type": "markdown",
   "id": "e5fb7b4a",
   "metadata": {},
   "source": [
    "We want all the attributes to have the same weight, thus:"
   ]
  },
  {
   "cell_type": "code",
   "execution_count": 313,
   "id": "04206a16",
   "metadata": {},
   "outputs": [
    {
     "name": "stdout",
     "output_type": "stream",
     "text": [
      "2.4210526315789473\n",
      "1.0\n",
      "4.107142857142857\n",
      "76.66666666666667\n",
      "19.166666666666668\n",
      "46.0\n",
      "115.0\n"
     ]
    }
   ],
   "source": [
    "dfs=[enc_df,enc_df2,enc_df3,enc_df4,enc_df5,pd_time,data]\n",
    "shapes=[enc_df.shape[1],enc_df2.shape[1],enc_df3.shape[1],enc_df4.shape[1],enc_df5.shape[1],\n",
    "        pd_time.shape[1],data.shape[1]]\n",
    "for el,dfs in zip(shapes,dfs):\n",
    "    print(230/el)"
   ]
  },
  {
   "cell_type": "code",
   "execution_count": 314,
   "id": "93ca3fd1",
   "metadata": {},
   "outputs": [],
   "source": [
    "enc_df=pd.concat([enc_df]*2,axis=1)\n",
    "enc_df3=pd.concat([enc_df3]*4,axis=1)\n",
    "enc_df4=pd.concat([enc_df4]*77,axis=1)\n",
    "enc_df5=pd.concat([enc_df5]*19,axis=1)\n",
    "pd_time=pd.concat([pd_time]*46,axis=1)\n",
    "data=pd.concat([data]*115,axis=1)"
   ]
  },
  {
   "cell_type": "markdown",
   "id": "aee412ff",
   "metadata": {},
   "source": [
    "df = pd.concat([enc_df,enc_df2,enc_df3,enc_df4,enc_df5,pd_time,data], axis = 1)\n",
    "df=df.drop(columns=['index','ScheduleTime','Airline','Destination','AircraftType','FlightType','Sector'])\n",
    "df"
   ]
  },
  {
   "cell_type": "code",
   "execution_count": 318,
   "id": "bad57d53",
   "metadata": {},
   "outputs": [
    {
     "data": {
      "text/html": [
       "<div>\n",
       "<style scoped>\n",
       "    .dataframe tbody tr th:only-of-type {\n",
       "        vertical-align: middle;\n",
       "    }\n",
       "\n",
       "    .dataframe tbody tr th {\n",
       "        vertical-align: top;\n",
       "    }\n",
       "\n",
       "    .dataframe thead th {\n",
       "        text-align: right;\n",
       "    }\n",
       "</style>\n",
       "<table border=\"1\" class=\"dataframe\">\n",
       "  <thead>\n",
       "    <tr style=\"text-align: right;\">\n",
       "      <th></th>\n",
       "      <th>AY</th>\n",
       "      <th>BJ</th>\n",
       "      <th>BT</th>\n",
       "      <th>BZ</th>\n",
       "      <th>CL</th>\n",
       "      <th>CN</th>\n",
       "      <th>DO</th>\n",
       "      <th>DT</th>\n",
       "      <th>DU</th>\n",
       "      <th>EM</th>\n",
       "      <th>...</th>\n",
       "      <th>SeatCapacity</th>\n",
       "      <th>LoadFactor</th>\n",
       "      <th>SeatCapacity</th>\n",
       "      <th>LoadFactor</th>\n",
       "      <th>SeatCapacity</th>\n",
       "      <th>LoadFactor</th>\n",
       "      <th>SeatCapacity</th>\n",
       "      <th>LoadFactor</th>\n",
       "      <th>SeatCapacity</th>\n",
       "      <th>LoadFactor</th>\n",
       "    </tr>\n",
       "  </thead>\n",
       "  <tbody>\n",
       "    <tr>\n",
       "      <th>0</th>\n",
       "      <td>0.0</td>\n",
       "      <td>0.0</td>\n",
       "      <td>0.0</td>\n",
       "      <td>0.0</td>\n",
       "      <td>0.0</td>\n",
       "      <td>0.0</td>\n",
       "      <td>0.0</td>\n",
       "      <td>0.0</td>\n",
       "      <td>0.0</td>\n",
       "      <td>0.0</td>\n",
       "      <td>...</td>\n",
       "      <td>142</td>\n",
       "      <td>0.408451</td>\n",
       "      <td>142</td>\n",
       "      <td>0.408451</td>\n",
       "      <td>142</td>\n",
       "      <td>0.408451</td>\n",
       "      <td>142</td>\n",
       "      <td>0.408451</td>\n",
       "      <td>142</td>\n",
       "      <td>0.408451</td>\n",
       "    </tr>\n",
       "    <tr>\n",
       "      <th>1</th>\n",
       "      <td>0.0</td>\n",
       "      <td>0.0</td>\n",
       "      <td>0.0</td>\n",
       "      <td>0.0</td>\n",
       "      <td>0.0</td>\n",
       "      <td>0.0</td>\n",
       "      <td>0.0</td>\n",
       "      <td>0.0</td>\n",
       "      <td>0.0</td>\n",
       "      <td>0.0</td>\n",
       "      <td>...</td>\n",
       "      <td>74</td>\n",
       "      <td>0.189189</td>\n",
       "      <td>74</td>\n",
       "      <td>0.189189</td>\n",
       "      <td>74</td>\n",
       "      <td>0.189189</td>\n",
       "      <td>74</td>\n",
       "      <td>0.189189</td>\n",
       "      <td>74</td>\n",
       "      <td>0.189189</td>\n",
       "    </tr>\n",
       "    <tr>\n",
       "      <th>2</th>\n",
       "      <td>0.0</td>\n",
       "      <td>0.0</td>\n",
       "      <td>0.0</td>\n",
       "      <td>0.0</td>\n",
       "      <td>0.0</td>\n",
       "      <td>0.0</td>\n",
       "      <td>0.0</td>\n",
       "      <td>0.0</td>\n",
       "      <td>0.0</td>\n",
       "      <td>0.0</td>\n",
       "      <td>...</td>\n",
       "      <td>142</td>\n",
       "      <td>0.570423</td>\n",
       "      <td>142</td>\n",
       "      <td>0.570423</td>\n",
       "      <td>142</td>\n",
       "      <td>0.570423</td>\n",
       "      <td>142</td>\n",
       "      <td>0.570423</td>\n",
       "      <td>142</td>\n",
       "      <td>0.570423</td>\n",
       "    </tr>\n",
       "    <tr>\n",
       "      <th>3</th>\n",
       "      <td>0.0</td>\n",
       "      <td>0.0</td>\n",
       "      <td>0.0</td>\n",
       "      <td>0.0</td>\n",
       "      <td>0.0</td>\n",
       "      <td>1.0</td>\n",
       "      <td>0.0</td>\n",
       "      <td>0.0</td>\n",
       "      <td>0.0</td>\n",
       "      <td>0.0</td>\n",
       "      <td>...</td>\n",
       "      <td>72</td>\n",
       "      <td>0.333333</td>\n",
       "      <td>72</td>\n",
       "      <td>0.333333</td>\n",
       "      <td>72</td>\n",
       "      <td>0.333333</td>\n",
       "      <td>72</td>\n",
       "      <td>0.333333</td>\n",
       "      <td>72</td>\n",
       "      <td>0.333333</td>\n",
       "    </tr>\n",
       "    <tr>\n",
       "      <th>4</th>\n",
       "      <td>0.0</td>\n",
       "      <td>0.0</td>\n",
       "      <td>0.0</td>\n",
       "      <td>0.0</td>\n",
       "      <td>0.0</td>\n",
       "      <td>0.0</td>\n",
       "      <td>0.0</td>\n",
       "      <td>0.0</td>\n",
       "      <td>0.0</td>\n",
       "      <td>0.0</td>\n",
       "      <td>...</td>\n",
       "      <td>186</td>\n",
       "      <td>0.204301</td>\n",
       "      <td>186</td>\n",
       "      <td>0.204301</td>\n",
       "      <td>186</td>\n",
       "      <td>0.204301</td>\n",
       "      <td>186</td>\n",
       "      <td>0.204301</td>\n",
       "      <td>186</td>\n",
       "      <td>0.204301</td>\n",
       "    </tr>\n",
       "    <tr>\n",
       "      <th>...</th>\n",
       "      <td>...</td>\n",
       "      <td>...</td>\n",
       "      <td>...</td>\n",
       "      <td>...</td>\n",
       "      <td>...</td>\n",
       "      <td>...</td>\n",
       "      <td>...</td>\n",
       "      <td>...</td>\n",
       "      <td>...</td>\n",
       "      <td>...</td>\n",
       "      <td>...</td>\n",
       "      <td>...</td>\n",
       "      <td>...</td>\n",
       "      <td>...</td>\n",
       "      <td>...</td>\n",
       "      <td>...</td>\n",
       "      <td>...</td>\n",
       "      <td>...</td>\n",
       "      <td>...</td>\n",
       "      <td>...</td>\n",
       "      <td>...</td>\n",
       "    </tr>\n",
       "    <tr>\n",
       "      <th>36763</th>\n",
       "      <td>0.0</td>\n",
       "      <td>0.0</td>\n",
       "      <td>0.0</td>\n",
       "      <td>0.0</td>\n",
       "      <td>0.0</td>\n",
       "      <td>0.0</td>\n",
       "      <td>0.0</td>\n",
       "      <td>0.0</td>\n",
       "      <td>0.0</td>\n",
       "      <td>0.0</td>\n",
       "      <td>...</td>\n",
       "      <td>180</td>\n",
       "      <td>0.522222</td>\n",
       "      <td>180</td>\n",
       "      <td>0.522222</td>\n",
       "      <td>180</td>\n",
       "      <td>0.522222</td>\n",
       "      <td>180</td>\n",
       "      <td>0.522222</td>\n",
       "      <td>180</td>\n",
       "      <td>0.522222</td>\n",
       "    </tr>\n",
       "    <tr>\n",
       "      <th>36764</th>\n",
       "      <td>0.0</td>\n",
       "      <td>0.0</td>\n",
       "      <td>0.0</td>\n",
       "      <td>0.0</td>\n",
       "      <td>0.0</td>\n",
       "      <td>0.0</td>\n",
       "      <td>0.0</td>\n",
       "      <td>0.0</td>\n",
       "      <td>0.0</td>\n",
       "      <td>0.0</td>\n",
       "      <td>...</td>\n",
       "      <td>156</td>\n",
       "      <td>0.532051</td>\n",
       "      <td>156</td>\n",
       "      <td>0.532051</td>\n",
       "      <td>156</td>\n",
       "      <td>0.532051</td>\n",
       "      <td>156</td>\n",
       "      <td>0.532051</td>\n",
       "      <td>156</td>\n",
       "      <td>0.532051</td>\n",
       "    </tr>\n",
       "    <tr>\n",
       "      <th>36765</th>\n",
       "      <td>0.0</td>\n",
       "      <td>0.0</td>\n",
       "      <td>0.0</td>\n",
       "      <td>0.0</td>\n",
       "      <td>0.0</td>\n",
       "      <td>0.0</td>\n",
       "      <td>0.0</td>\n",
       "      <td>0.0</td>\n",
       "      <td>0.0</td>\n",
       "      <td>0.0</td>\n",
       "      <td>...</td>\n",
       "      <td>156</td>\n",
       "      <td>0.602564</td>\n",
       "      <td>156</td>\n",
       "      <td>0.602564</td>\n",
       "      <td>156</td>\n",
       "      <td>0.602564</td>\n",
       "      <td>156</td>\n",
       "      <td>0.602564</td>\n",
       "      <td>156</td>\n",
       "      <td>0.602564</td>\n",
       "    </tr>\n",
       "    <tr>\n",
       "      <th>36766</th>\n",
       "      <td>0.0</td>\n",
       "      <td>0.0</td>\n",
       "      <td>0.0</td>\n",
       "      <td>0.0</td>\n",
       "      <td>1.0</td>\n",
       "      <td>0.0</td>\n",
       "      <td>0.0</td>\n",
       "      <td>0.0</td>\n",
       "      <td>0.0</td>\n",
       "      <td>0.0</td>\n",
       "      <td>...</td>\n",
       "      <td>189</td>\n",
       "      <td>0.417989</td>\n",
       "      <td>189</td>\n",
       "      <td>0.417989</td>\n",
       "      <td>189</td>\n",
       "      <td>0.417989</td>\n",
       "      <td>189</td>\n",
       "      <td>0.417989</td>\n",
       "      <td>189</td>\n",
       "      <td>0.417989</td>\n",
       "    </tr>\n",
       "    <tr>\n",
       "      <th>36767</th>\n",
       "      <td>0.0</td>\n",
       "      <td>0.0</td>\n",
       "      <td>0.0</td>\n",
       "      <td>0.0</td>\n",
       "      <td>1.0</td>\n",
       "      <td>0.0</td>\n",
       "      <td>0.0</td>\n",
       "      <td>0.0</td>\n",
       "      <td>0.0</td>\n",
       "      <td>0.0</td>\n",
       "      <td>...</td>\n",
       "      <td>189</td>\n",
       "      <td>0.497354</td>\n",
       "      <td>189</td>\n",
       "      <td>0.497354</td>\n",
       "      <td>189</td>\n",
       "      <td>0.497354</td>\n",
       "      <td>189</td>\n",
       "      <td>0.497354</td>\n",
       "      <td>189</td>\n",
       "      <td>0.497354</td>\n",
       "    </tr>\n",
       "  </tbody>\n",
       "</table>\n",
       "<p>36768 rows × 1563 columns</p>\n",
       "</div>"
      ],
      "text/plain": [
       "        AY   BJ   BT   BZ   CL   CN   DO   DT   DU   EM  ...  SeatCapacity  \\\n",
       "0      0.0  0.0  0.0  0.0  0.0  0.0  0.0  0.0  0.0  0.0  ...           142   \n",
       "1      0.0  0.0  0.0  0.0  0.0  0.0  0.0  0.0  0.0  0.0  ...            74   \n",
       "2      0.0  0.0  0.0  0.0  0.0  0.0  0.0  0.0  0.0  0.0  ...           142   \n",
       "3      0.0  0.0  0.0  0.0  0.0  1.0  0.0  0.0  0.0  0.0  ...            72   \n",
       "4      0.0  0.0  0.0  0.0  0.0  0.0  0.0  0.0  0.0  0.0  ...           186   \n",
       "...    ...  ...  ...  ...  ...  ...  ...  ...  ...  ...  ...           ...   \n",
       "36763  0.0  0.0  0.0  0.0  0.0  0.0  0.0  0.0  0.0  0.0  ...           180   \n",
       "36764  0.0  0.0  0.0  0.0  0.0  0.0  0.0  0.0  0.0  0.0  ...           156   \n",
       "36765  0.0  0.0  0.0  0.0  0.0  0.0  0.0  0.0  0.0  0.0  ...           156   \n",
       "36766  0.0  0.0  0.0  0.0  1.0  0.0  0.0  0.0  0.0  0.0  ...           189   \n",
       "36767  0.0  0.0  0.0  0.0  1.0  0.0  0.0  0.0  0.0  0.0  ...           189   \n",
       "\n",
       "       LoadFactor  SeatCapacity  LoadFactor  SeatCapacity  LoadFactor  \\\n",
       "0        0.408451           142    0.408451           142    0.408451   \n",
       "1        0.189189            74    0.189189            74    0.189189   \n",
       "2        0.570423           142    0.570423           142    0.570423   \n",
       "3        0.333333            72    0.333333            72    0.333333   \n",
       "4        0.204301           186    0.204301           186    0.204301   \n",
       "...           ...           ...         ...           ...         ...   \n",
       "36763    0.522222           180    0.522222           180    0.522222   \n",
       "36764    0.532051           156    0.532051           156    0.532051   \n",
       "36765    0.602564           156    0.602564           156    0.602564   \n",
       "36766    0.417989           189    0.417989           189    0.417989   \n",
       "36767    0.497354           189    0.497354           189    0.497354   \n",
       "\n",
       "       SeatCapacity  LoadFactor  SeatCapacity  LoadFactor  \n",
       "0               142    0.408451           142    0.408451  \n",
       "1                74    0.189189            74    0.189189  \n",
       "2               142    0.570423           142    0.570423  \n",
       "3                72    0.333333            72    0.333333  \n",
       "4               186    0.204301           186    0.204301  \n",
       "...             ...         ...           ...         ...  \n",
       "36763           180    0.522222           180    0.522222  \n",
       "36764           156    0.532051           156    0.532051  \n",
       "36765           156    0.602564           156    0.602564  \n",
       "36766           189    0.417989           189    0.417989  \n",
       "36767           189    0.497354           189    0.497354  \n",
       "\n",
       "[36768 rows x 1563 columns]"
      ]
     },
     "execution_count": 318,
     "metadata": {},
     "output_type": "execute_result"
    }
   ],
   "source": [
    "df = pd.concat([enc_df,enc_df2,enc_df3,enc_df4,enc_df5,pd_time,data], axis = 1)\n",
    "df"
   ]
  },
  {
   "cell_type": "code",
   "execution_count": 319,
   "id": "465c2c48",
   "metadata": {},
   "outputs": [],
   "source": [
    "#df = pd.concat([enc_df,enc_df2,enc_df3,enc_df4,enc_df5,pd_time,data], axis = 1)\n",
    "#df=df.drop(columns=['index','ScheduleTime','Airline','Destination','AircraftType','FlightType','Sector'])\n",
    "#df"
   ]
  },
  {
   "cell_type": "code",
   "execution_count": 320,
   "id": "12ee835b",
   "metadata": {},
   "outputs": [
    {
     "data": {
      "text/plain": [
       "<matplotlib.collections.PathCollection at 0x7fe712a0ac40>"
      ]
     },
     "execution_count": 320,
     "metadata": {},
     "output_type": "execute_result"
    },
    {
     "data": {
      "image/png": "[encoded data removed]",
      "text/plain": [
       "<Figure size 432x288 with 1 Axes>"
      ]
     },
     "metadata": {
      "needs_background": "light"
     },
     "output_type": "display_data"
    }
   ],
   "source": [
    "plt.scatter(df.SeatCapacity,df.LoadFactor,s=1)"
   ]
  },
  {
   "cell_type": "markdown",
   "id": "b4295503",
   "metadata": {},
   "source": [
    "We convert the dataset to X and y numpy arrays"
   ]
  },
  {
   "cell_type": "code",
   "execution_count": 321,
   "id": "4505f689",
   "metadata": {},
   "outputs": [
    {
     "data": {
      "text/plain": [
       "(36768, 1562)"
      ]
     },
     "execution_count": 321,
     "metadata": {},
     "output_type": "execute_result"
    }
   ],
   "source": [
    "X=np.array(df.iloc[:,:-1])\n",
    "y=np.array(df.iloc[:,-1])\n",
    "X.shape"
   ]
  },
  {
   "cell_type": "markdown",
   "id": "dd396e47",
   "metadata": {},
   "source": [
    "#### Normalization"
   ]
  },
  {
   "cell_type": "code",
   "execution_count": 322,
   "id": "9c653e20",
   "metadata": {},
   "outputs": [],
   "source": [
    "X_pre = X - np.mean(X,axis=0)\n",
    "\n",
    "normalizer = preproc.Normalizer().fit(X_pre.T)  \n",
    "X_pre = normalizer.transform(X_pre.T).T"
   ]
  },
  {
   "cell_type": "code",
   "execution_count": 323,
   "id": "413d34a3",
   "metadata": {},
   "outputs": [],
   "source": [
    "min_max_scaler = preproc.MinMaxScaler()\n",
    "\n",
    "y_pre = min_max_scaler.fit_transform(y.reshape(-1,1)).reshape(-1,)"
   ]
  },
  {
   "cell_type": "markdown",
   "id": "c5e80b09",
   "metadata": {},
   "source": [
    "#### Check number of unique values per column"
   ]
  },
  {
   "cell_type": "code",
   "execution_count": 324,
   "id": "8c0e5393",
   "metadata": {},
   "outputs": [],
   "source": [
    "from sklearn.model_selection import train_test_split\n",
    "from sklearn.ensemble import RandomForestRegressor\n",
    "from sklearn import tree,metrics"
   ]
  },
  {
   "cell_type": "code",
   "execution_count": 325,
   "id": "9b31dc05",
   "metadata": {},
   "outputs": [],
   "source": [
    "X_train, X_test, y_train, y_test = train_test_split(X_pre, y_pre, test_size=0.30, random_state=42)"
   ]
  },
  {
   "cell_type": "code",
   "execution_count": 326,
   "id": "e612677d",
   "metadata": {},
   "outputs": [
    {
     "data": {
      "text/plain": [
       "0.8586538461538469"
      ]
     },
     "execution_count": 326,
     "metadata": {},
     "output_type": "execute_result"
    }
   ],
   "source": [
    "max(y_test)"
   ]
  },
  {
   "cell_type": "code",
   "execution_count": 327,
   "id": "daeeeab3",
   "metadata": {},
   "outputs": [],
   "source": [
    "model= RandomForestRegressor(n_estimators=100)\n",
    "model.fit(X_train,y_train)\n",
    "ypred=model.predict(X_test)"
   ]
  },
  {
   "cell_type": "code",
   "execution_count": 328,
   "id": "55b557ca",
   "metadata": {},
   "outputs": [
    {
     "data": {
      "text/plain": [
       "0.00010305844943765556"
      ]
     },
     "execution_count": 328,
     "metadata": {},
     "output_type": "execute_result"
    }
   ],
   "source": [
    "metrics.mean_absolute_error(y_test,ypred)"
   ]
  },
  {
   "cell_type": "code",
   "execution_count": 329,
   "id": "c6afdd14",
   "metadata": {},
   "outputs": [
    {
     "data": {
      "text/plain": [
       "2.6761761673367256e-08"
      ]
     },
     "execution_count": 329,
     "metadata": {},
     "output_type": "execute_result"
    }
   ],
   "source": [
    "metrics.mean_squared_error(y_test,ypred)"
   ]
  },
  {
   "cell_type": "markdown",
   "id": "1d11962e",
   "metadata": {},
   "source": [
    "Now we are missing some parameter-tunning for this model"
   ]
  },
  {
   "cell_type": "code",
   "execution_count": 344,
   "id": "013d2f56",
   "metadata": {},
   "outputs": [
    {
     "data": {
      "image/png": "[encoded data removed]",
      "text/plain": [
       "<Figure size 864x576 with 1 Axes>"
      ]
     },
     "metadata": {
      "needs_background": "light"
     },
     "output_type": "display_data"
    }
   ],
   "source": [
    "plt.figure(figsize=(12,8))\n",
    "# plt.scatter(np.sort(y_test),np.sort(ypred),s=1)\n",
    "plt.scatter(y_test,ypred,s=5)\n",
    "plt.xlabel('y test');plt.ylabel('y pred')\n",
    "plt.plot(np.linspace(0,max(y_test)),np.linspace(0,max(y_test)),'r')\n",
    "plt.grid()\n",
    "plt.show()"
   ]
  },
  {
   "cell_type": "markdown",
   "id": "cc9a0d56",
   "metadata": {},
   "source": [
    "We can see how the dispersion is quite high and thus the prediction far from being perfect."
   ]
  },
  {
   "cell_type": "markdown",
   "id": "996a4524",
   "metadata": {},
   "source": [
    "- Let's try to tune some hyperparameters:"
   ]
  },
  {
   "cell_type": "code",
   "execution_count": null,
   "id": "c2167f26",
   "metadata": {},
   "outputs": [],
   "source": []
  },
  {
   "cell_type": "markdown",
   "id": "a759f721",
   "metadata": {},
   "source": [
    "## KNN"
   ]
  },
  {
   "cell_type": "code",
   "execution_count": 119,
   "id": "71ace887",
   "metadata": {},
   "outputs": [],
   "source": [
    "from sklearn import neighbors\n",
    "from sklearn.metrics import mean_squared_error \n",
    "from math import sqrt"
   ]
  },
  {
   "cell_type": "code",
   "execution_count": 347,
   "id": "1dc756a7",
   "metadata": {},
   "outputs": [],
   "source": [
    "model = neighbors.KNeighborsRegressor(n_neighbors = 5)\n",
    "model.fit(X_train, y_train)\n",
    "pred=model.predict(X_test)"
   ]
  },
  {
   "cell_type": "code",
   "execution_count": 348,
   "id": "07ebb16e",
   "metadata": {},
   "outputs": [
    {
     "data": {
      "image/png": "[encoded data removed]",
      "text/plain": [
       "<Figure size 864x576 with 1 Axes>"
      ]
     },
     "metadata": {
      "needs_background": "light"
     },
     "output_type": "display_data"
    }
   ],
   "source": [
    "plt.figure(figsize=(12,8))\n",
    "# plt.scatter(np.sort(y_test),np.sort(ypred),s=1)\n",
    "plt.scatter(y_test,pred,s=5)\n",
    "plt.xlabel('y test');plt.ylabel('y pred')\n",
    "plt.plot(np.linspace(0,max(y_test)),np.linspace(0,max(y_test)),'r')\n",
    "plt.grid()\n",
    "plt.show()"
   ]
  },
  {
   "cell_type": "code",
   "execution_count": 350,
   "id": "ab713f9b",
   "metadata": {},
   "outputs": [
    {
     "data": {
      "text/plain": [
       "0.03714550665970159"
      ]
     },
     "execution_count": 350,
     "metadata": {},
     "output_type": "execute_result"
    }
   ],
   "source": [
    "metrics.mean_absolute_error(y_test,pred)"
   ]
  },
  {
   "cell_type": "code",
   "execution_count": 351,
   "id": "f1cf3e72",
   "metadata": {},
   "outputs": [
    {
     "data": {
      "text/plain": [
       "0.0026551117028159074"
      ]
     },
     "execution_count": 351,
     "metadata": {},
     "output_type": "execute_result"
    }
   ],
   "source": [
    "metrics.mean_squared_error(y_test,pred)"
   ]
  },
  {
   "cell_type": "code",
   "execution_count": 352,
   "id": "3e8c5fd1",
   "metadata": {},
   "outputs": [],
   "source": [
    "model = neighbors.KNeighborsRegressor(n_neighbors = 11)\n",
    "model.fit(X_train, y_train)\n",
    "pred=model.predict(X_test)"
   ]
  },
  {
   "cell_type": "code",
   "execution_count": 353,
   "id": "07ed6237",
   "metadata": {},
   "outputs": [
    {
     "data": {
      "image/png": "[encoded data removed]",
      "text/plain": [
       "<Figure size 864x576 with 1 Axes>"
      ]
     },
     "metadata": {
      "needs_background": "light"
     },
     "output_type": "display_data"
    }
   ],
   "source": [
    "plt.figure(figsize=(12,8))\n",
    "# plt.scatter(np.sort(y_test),np.sort(ypred),s=1)\n",
    "plt.scatter(y_test,pred,s=5)\n",
    "plt.xlabel('y test');plt.ylabel('y pred')\n",
    "plt.plot(np.linspace(0,max(y_test)),np.linspace(0,max(y_test)),'r')\n",
    "plt.grid()\n",
    "plt.show()"
   ]
  },
  {
   "cell_type": "code",
   "execution_count": 354,
   "id": "39f4a746",
   "metadata": {},
   "outputs": [
    {
     "data": {
      "text/plain": [
       "0.038404100213632913"
      ]
     },
     "execution_count": 354,
     "metadata": {},
     "output_type": "execute_result"
    }
   ],
   "source": [
    "metrics.mean_absolute_error(y_test,pred)"
   ]
  },
  {
   "cell_type": "code",
   "execution_count": 355,
   "id": "70f1b9b1",
   "metadata": {},
   "outputs": [
    {
     "data": {
      "text/plain": [
       "0.0029228708835613913"
      ]
     },
     "execution_count": 355,
     "metadata": {},
     "output_type": "execute_result"
    }
   ],
   "source": [
    "metrics.mean_squared_error(y_test,pred)"
   ]
  },
  {
   "cell_type": "code",
   "execution_count": 356,
   "id": "0a657d29",
   "metadata": {},
   "outputs": [],
   "source": [
    "model = neighbors.KNeighborsRegressor(n_neighbors = 7)\n",
    "model.fit(X_train, y_train)\n",
    "pred=model.predict(X_test)"
   ]
  },
  {
   "cell_type": "code",
   "execution_count": 357,
   "id": "a9f780bb",
   "metadata": {},
   "outputs": [
    {
     "data": {
      "image/png": "[encoded data removed]",
      "text/plain": [
       "<Figure size 864x576 with 1 Axes>"
      ]
     },
     "metadata": {
      "needs_background": "light"
     },
     "output_type": "display_data"
    }
   ],
   "source": [
    "plt.figure(figsize=(12,8))\n",
    "# plt.scatter(np.sort(y_test),np.sort(ypred),s=1)\n",
    "plt.scatter(y_test,pred,s=5)\n",
    "plt.xlabel('y test');plt.ylabel('y pred')\n",
    "plt.plot(np.linspace(0,max(y_test)),np.linspace(0,max(y_test)),'r')\n",
    "plt.grid()\n",
    "plt.show()"
   ]
  },
  {
   "cell_type": "code",
   "execution_count": 358,
   "id": "bf020976",
   "metadata": {},
   "outputs": [
    {
     "data": {
      "text/plain": [
       "0.03754186496206466"
      ]
     },
     "execution_count": 358,
     "metadata": {},
     "output_type": "execute_result"
    }
   ],
   "source": [
    "metrics.mean_absolute_error(y_test,pred)"
   ]
  },
  {
   "cell_type": "code",
   "execution_count": 368,
   "id": "6b99b856",
   "metadata": {},
   "outputs": [],
   "source": [
    "from sklearn.model_selection import KFold\n",
    "from sklearn.neighbors import KNeighborsClassifier"
   ]
  },
  {
   "cell_type": "code",
   "execution_count": 369,
   "id": "176f3e4d",
   "metadata": {},
   "outputs": [],
   "source": [
    "#Setup a response vector\n",
    "N = np.shape(X)[0]\n",
    "y = np.zeros(N)\n",
    "\n",
    "K = N\n",
    "kf = KFold(n_splits=K)\n",
    "k_neigh = 10\n",
    "Error = np.zeros((K, k_neigh))"
   ]
  },
  {
   "cell_type": "code",
   "execution_count": 370,
   "id": "3b236bd7",
   "metadata": {},
   "outputs": [
    {
     "ename": "KeyboardInterrupt",
     "evalue": "",
     "output_type": "error",
     "traceback": [
      "\u001b[0;31m---------------------------------------------------------------------------\u001b[0m",
      "\u001b[0;31mKeyboardInterrupt\u001b[0m                         Traceback (most recent call last)",
      "\u001b[0;32m/var/folders/sl/1xwn2w1j4x7c2rxkc6cdlnrh0000gn/T/ipykernel_80904/2830614125.py\u001b[0m in \u001b[0;36m<module>\u001b[0;34m\u001b[0m\n\u001b[1;32m      8\u001b[0m         \u001b[0;31m# Use Scikit KNN classifier, as you have already tried implementing it youself\u001b[0m\u001b[0;34m\u001b[0m\u001b[0;34m\u001b[0m\u001b[0;34m\u001b[0m\u001b[0m\n\u001b[1;32m      9\u001b[0m         \u001b[0mneigh\u001b[0m \u001b[0;34m=\u001b[0m \u001b[0mKNeighborsClassifier\u001b[0m\u001b[0;34m(\u001b[0m\u001b[0mn_neighbors\u001b[0m\u001b[0;34m=\u001b[0m\u001b[0mk\u001b[0m\u001b[0;34m,\u001b[0m \u001b[0mweights\u001b[0m \u001b[0;34m=\u001b[0m \u001b[0;34m'uniform'\u001b[0m\u001b[0;34m,\u001b[0m \u001b[0mmetric\u001b[0m \u001b[0;34m=\u001b[0m \u001b[0;34m'euclidean'\u001b[0m\u001b[0;34m)\u001b[0m\u001b[0;34m\u001b[0m\u001b[0;34m\u001b[0m\u001b[0m\n\u001b[0;32m---> 10\u001b[0;31m         \u001b[0mneigh\u001b[0m\u001b[0;34m.\u001b[0m\u001b[0mfit\u001b[0m\u001b[0;34m(\u001b[0m\u001b[0mX_train\u001b[0m\u001b[0;34m,\u001b[0m \u001b[0my_train\u001b[0m\u001b[0;34m)\u001b[0m\u001b[0;34m\u001b[0m\u001b[0;34m\u001b[0m\u001b[0m\n\u001b[0m\u001b[1;32m     11\u001b[0m         \u001b[0myhat\u001b[0m \u001b[0;34m=\u001b[0m \u001b[0mneigh\u001b[0m\u001b[0;34m.\u001b[0m\u001b[0mpredict\u001b[0m\u001b[0;34m(\u001b[0m\u001b[0mX_test\u001b[0m\u001b[0;34m)\u001b[0m\u001b[0;34m\u001b[0m\u001b[0;34m\u001b[0m\u001b[0m\n\u001b[1;32m     12\u001b[0m \u001b[0;34m\u001b[0m\u001b[0m\n",
      "\u001b[0;32m~/opt/anaconda3/lib/python3.8/site-packages/sklearn/neighbors/_base.py\u001b[0m in \u001b[0;36mfit\u001b[0;34m(self, X, y)\u001b[0m\n\u001b[1;32m   1149\u001b[0m             \u001b[0mself\u001b[0m\u001b[0;34m.\u001b[0m\u001b[0m_y\u001b[0m \u001b[0;34m=\u001b[0m \u001b[0mself\u001b[0m\u001b[0;34m.\u001b[0m\u001b[0m_y\u001b[0m\u001b[0;34m.\u001b[0m\u001b[0mravel\u001b[0m\u001b[0;34m(\u001b[0m\u001b[0;34m)\u001b[0m\u001b[0;34m\u001b[0m\u001b[0;34m\u001b[0m\u001b[0m\n\u001b[1;32m   1150\u001b[0m \u001b[0;34m\u001b[0m\u001b[0m\n\u001b[0;32m-> 1151\u001b[0;31m         \u001b[0;32mreturn\u001b[0m \u001b[0mself\u001b[0m\u001b[0;34m.\u001b[0m\u001b[0m_fit\u001b[0m\u001b[0;34m(\u001b[0m\u001b[0mX\u001b[0m\u001b[0;34m)\u001b[0m\u001b[0;34m\u001b[0m\u001b[0;34m\u001b[0m\u001b[0m\n\u001b[0m\u001b[1;32m   1152\u001b[0m \u001b[0;34m\u001b[0m\u001b[0m\n\u001b[1;32m   1153\u001b[0m \u001b[0;34m\u001b[0m\u001b[0m\n",
      "\u001b[0;32m~/opt/anaconda3/lib/python3.8/site-packages/sklearn/neighbors/_base.py\u001b[0m in \u001b[0;36m_fit\u001b[0;34m(self, X)\u001b[0m\n\u001b[1;32m    453\u001b[0m                                   **self.effective_metric_params_)\n\u001b[1;32m    454\u001b[0m         \u001b[0;32melif\u001b[0m \u001b[0mself\u001b[0m\u001b[0;34m.\u001b[0m\u001b[0m_fit_method\u001b[0m \u001b[0;34m==\u001b[0m \u001b[0;34m'kd_tree'\u001b[0m\u001b[0;34m:\u001b[0m\u001b[0;34m\u001b[0m\u001b[0;34m\u001b[0m\u001b[0m\n\u001b[0;32m--> 455\u001b[0;31m             self._tree = KDTree(X, self.leaf_size,\n\u001b[0m\u001b[1;32m    456\u001b[0m                                 \u001b[0mmetric\u001b[0m\u001b[0;34m=\u001b[0m\u001b[0mself\u001b[0m\u001b[0;34m.\u001b[0m\u001b[0meffective_metric_\u001b[0m\u001b[0;34m,\u001b[0m\u001b[0;34m\u001b[0m\u001b[0;34m\u001b[0m\u001b[0m\n\u001b[1;32m    457\u001b[0m                                 **self.effective_metric_params_)\n",
      "\u001b[0;31mKeyboardInterrupt\u001b[0m: "
     ]
    }
   ],
   "source": [
    "for i, (train_index, test_index) in enumerate(kf.split(X)):\n",
    "    X_train = X[train_index]\n",
    "    y_train = y[train_index]\n",
    "    X_test = X[test_index]\n",
    "    y_test = y[test_index]\n",
    "\n",
    "    for k in range(1,k_neigh+1):\n",
    "        # Use Scikit KNN classifier, as you have already tried implementing it youself\n",
    "        neigh = KNeighborsClassifier(n_neighbors=k, weights = 'uniform', metric = 'euclidean')\n",
    "        neigh.fit(X_train, y_train)\n",
    "        yhat = neigh.predict(X_test)\n",
    "            \n",
    "        # This time i use the MAE\n",
    "        Error[i-1, k-1] = sum(np.abs(y_test - yhat)) / len(yhat)\n",
    "          \n",
    "E = np.mean(Error, axis = 0)\n",
    "\n",
    "fig  = plt.figure(figsize=(10,10))\n",
    "plt.scatter(list(range(1,k_neigh+1)), E, marker = '*')\n",
    "plt.axis([0, 11, 0.2, 0.6])\n",
    "fig.suptitle(\"CV test error\", fontsize=20)\n",
    "plt.xlabel(\"K\")\n",
    "plt.ylabel(\"Error\")\n",
    "plt.show()"
   ]
  },
  {
   "cell_type": "code",
   "execution_count": 372,
   "id": "6caf029b",
   "metadata": {},
   "outputs": [
    {
     "data": {
      "text/plain": [
       "array([[0., 0., 0., ..., 0., 0., 0.],\n",
       "       [0., 0., 0., ..., 0., 0., 0.],\n",
       "       [0., 0., 0., ..., 0., 0., 0.],\n",
       "       ...,\n",
       "       [0., 0., 0., ..., 0., 0., 0.],\n",
       "       [0., 0., 0., ..., 0., 0., 0.],\n",
       "       [0., 0., 0., ..., 0., 0., 0.]])"
      ]
     },
     "execution_count": 372,
     "metadata": {},
     "output_type": "execute_result"
    }
   ],
   "source": [
    "Error"
   ]
  },
  {
   "cell_type": "code",
   "execution_count": null,
   "id": "1dc91c68",
   "metadata": {},
   "outputs": [],
   "source": []
  },
  {
   "cell_type": "code",
   "execution_count": null,
   "id": "7fa850a7",
   "metadata": {},
   "outputs": [],
   "source": []
  },
  {
   "cell_type": "code",
   "execution_count": null,
   "id": "8a1b5969",
   "metadata": {},
   "outputs": [],
   "source": []
  },
  {
   "cell_type": "code",
   "execution_count": null,
   "id": "90f5d0f3",
   "metadata": {},
   "outputs": [],
   "source": [
    "#Setup a response vector\n",
    "N = np.shape(X)[0]\n",
    "y = np.zeros(N)\n",
    "\n",
    "K = N\n",
    "# Better way of doing k fold cross validation\n",
    "kf = KFold(n_splits=K)\n",
    "k_neigh = 10\n",
    "Error = np.zeros((K, k_neigh))\n",
    "\n",
    "\n",
    "for i, (train_index, test_index) in enumerate(kf.split(Xa)):\n",
    "    X_train = Xa[train_index]\n",
    "    y_train = y[train_index]\n",
    "    X_test = Xa[test_index]\n",
    "    y_test = y[test_index]\n",
    "\n",
    "    for k in range(1,k_neigh+1):\n",
    "        # Use Scikit KNN classifier, as you have already tried implementing it youself\n",
    "        neigh = KNeighborsClassifier(n_neighbors=k, weights = 'uniform', metric = 'euclidean')\n",
    "        neigh.fit(X_train, y_train)\n",
    "        yhat = neigh.predict(X_test)\n",
    "            \n",
    "        # This time i use the MAE\n",
    "        Error[i-1, k-1] = sum(np.abs(y_test - yhat)) / len(yhat)\n",
    "          \n",
    "E = np.mean(Error, axis = 0)\n",
    "\n",
    "fig  = plt.figure(figsize=(10,10))\n",
    "plt.scatter(list(range(1,k_neigh+1)), E, marker = '*')\n",
    "plt.axis([0, 11, 0.2, 0.6])\n",
    "fig.suptitle(\"CV test error\", fontsize=20)\n",
    "plt.xlabel(\"K\")\n",
    "plt.ylabel(\"Error\")\n",
    "plt.show()"
   ]
  },
  {
   "cell_type": "code",
   "execution_count": null,
   "id": "45018b6b",
   "metadata": {},
   "outputs": [],
   "source": []
  },
  {
   "cell_type": "code",
   "execution_count": null,
   "id": "9c426241",
   "metadata": {},
   "outputs": [],
   "source": []
  },
  {
   "cell_type": "code",
   "execution_count": null,
   "id": "c1e1a4de",
   "metadata": {},
   "outputs": [],
   "source": []
  },
  {
   "cell_type": "code",
   "execution_count": null,
   "id": "1add6854",
   "metadata": {},
   "outputs": [],
   "source": []
  },
  {
   "cell_type": "code",
   "execution_count": null,
   "id": "ed262f58",
   "metadata": {},
   "outputs": [],
   "source": [
    "plt.figure(figsize=(12,8))\n",
    "# plt.scatter(np.sort(y_test),np.sort(ypred),s=1)\n",
    "plt.scatter(y_test,ypred,s=5)\n",
    "plt.xlabel('y test');plt.ylabel('y pred')\n",
    "plt.plot(np.linspace(0,max(y_test)),np.linspace(0,max(y_test)),'r')\n",
    "plt.grid()\n",
    "plt.show()"
   ]
  },
  {
   "cell_type": "code",
   "execution_count": 121,
   "id": "6bdc5aa7",
   "metadata": {},
   "outputs": [
    {
     "name": "stdout",
     "output_type": "stream",
     "text": [
      "RMSE value for k=  1 is: 0.1573516216212352\n",
      "RMSE value for k=  2 is: 0.13802116215681512\n",
      "RMSE value for k=  3 is: 0.13172526910640348\n",
      "RMSE value for k=  4 is: 0.12959658549582698\n",
      "RMSE value for k=  5 is: 0.12827121290055996\n",
      "RMSE value for k=  6 is: 0.12787943468864518\n",
      "RMSE value for k=  7 is: 0.12797097107276761\n",
      "RMSE value for k=  8 is: 0.12801307659375719\n",
      "RMSE value for k=  9 is: 0.12804684128121874\n"
     ]
    },
    {
     "ename": "KeyboardInterrupt",
     "evalue": "",
     "output_type": "error",
     "traceback": [
      "\u001b[0;31m---------------------------------------------------------------------------\u001b[0m",
      "\u001b[0;31mKeyboardInterrupt\u001b[0m                         Traceback (most recent call last)",
      "\u001b[0;32m/var/folders/sl/1xwn2w1j4x7c2rxkc6cdlnrh0000gn/T/ipykernel_80904/3565658418.py\u001b[0m in \u001b[0;36m<module>\u001b[0;34m\u001b[0m\n\u001b[1;32m      5\u001b[0m \u001b[0;34m\u001b[0m\u001b[0m\n\u001b[1;32m      6\u001b[0m     \u001b[0mmodel\u001b[0m\u001b[0;34m.\u001b[0m\u001b[0mfit\u001b[0m\u001b[0;34m(\u001b[0m\u001b[0mX_train\u001b[0m\u001b[0;34m,\u001b[0m \u001b[0my_train\u001b[0m\u001b[0;34m)\u001b[0m  \u001b[0;31m#fit the model\u001b[0m\u001b[0;34m\u001b[0m\u001b[0;34m\u001b[0m\u001b[0m\n\u001b[0;32m----> 7\u001b[0;31m     \u001b[0mpred\u001b[0m\u001b[0;34m=\u001b[0m\u001b[0mmodel\u001b[0m\u001b[0;34m.\u001b[0m\u001b[0mpredict\u001b[0m\u001b[0;34m(\u001b[0m\u001b[0mX_test\u001b[0m\u001b[0;34m)\u001b[0m \u001b[0;31m#make prediction on test set\u001b[0m\u001b[0;34m\u001b[0m\u001b[0;34m\u001b[0m\u001b[0m\n\u001b[0m\u001b[1;32m      8\u001b[0m     \u001b[0merror\u001b[0m \u001b[0;34m=\u001b[0m \u001b[0msqrt\u001b[0m\u001b[0;34m(\u001b[0m\u001b[0mmean_squared_error\u001b[0m\u001b[0;34m(\u001b[0m\u001b[0my_test\u001b[0m\u001b[0;34m,\u001b[0m\u001b[0mpred\u001b[0m\u001b[0;34m)\u001b[0m\u001b[0;34m)\u001b[0m \u001b[0;31m#calculate rmse\u001b[0m\u001b[0;34m\u001b[0m\u001b[0;34m\u001b[0m\u001b[0m\n\u001b[1;32m      9\u001b[0m     \u001b[0mrmse_val\u001b[0m\u001b[0;34m.\u001b[0m\u001b[0mappend\u001b[0m\u001b[0;34m(\u001b[0m\u001b[0merror\u001b[0m\u001b[0;34m)\u001b[0m \u001b[0;31m#store rmse values\u001b[0m\u001b[0;34m\u001b[0m\u001b[0;34m\u001b[0m\u001b[0m\n",
      "\u001b[0;32m~/opt/anaconda3/lib/python3.8/site-packages/sklearn/neighbors/_regression.py\u001b[0m in \u001b[0;36mpredict\u001b[0;34m(self, X)\u001b[0m\n\u001b[1;32m    172\u001b[0m         \u001b[0mX\u001b[0m \u001b[0;34m=\u001b[0m \u001b[0mcheck_array\u001b[0m\u001b[0;34m(\u001b[0m\u001b[0mX\u001b[0m\u001b[0;34m,\u001b[0m \u001b[0maccept_sparse\u001b[0m\u001b[0;34m=\u001b[0m\u001b[0;34m'csr'\u001b[0m\u001b[0;34m)\u001b[0m\u001b[0;34m\u001b[0m\u001b[0;34m\u001b[0m\u001b[0m\n\u001b[1;32m    173\u001b[0m \u001b[0;34m\u001b[0m\u001b[0m\n\u001b[0;32m--> 174\u001b[0;31m         \u001b[0mneigh_dist\u001b[0m\u001b[0;34m,\u001b[0m \u001b[0mneigh_ind\u001b[0m \u001b[0;34m=\u001b[0m \u001b[0mself\u001b[0m\u001b[0;34m.\u001b[0m\u001b[0mkneighbors\u001b[0m\u001b[0;34m(\u001b[0m\u001b[0mX\u001b[0m\u001b[0;34m)\u001b[0m\u001b[0;34m\u001b[0m\u001b[0;34m\u001b[0m\u001b[0m\n\u001b[0m\u001b[1;32m    175\u001b[0m \u001b[0;34m\u001b[0m\u001b[0m\n\u001b[1;32m    176\u001b[0m         \u001b[0mweights\u001b[0m \u001b[0;34m=\u001b[0m \u001b[0m_get_weights\u001b[0m\u001b[0;34m(\u001b[0m\u001b[0mneigh_dist\u001b[0m\u001b[0;34m,\u001b[0m \u001b[0mself\u001b[0m\u001b[0;34m.\u001b[0m\u001b[0mweights\u001b[0m\u001b[0;34m)\u001b[0m\u001b[0;34m\u001b[0m\u001b[0;34m\u001b[0m\u001b[0m\n",
      "\u001b[0;32m~/opt/anaconda3/lib/python3.8/site-packages/sklearn/neighbors/_base.py\u001b[0m in \u001b[0;36mkneighbors\u001b[0;34m(self, X, n_neighbors, return_distance)\u001b[0m\n\u001b[1;32m    659\u001b[0m                 \u001b[0mdelayed_query\u001b[0m \u001b[0;34m=\u001b[0m \u001b[0mdelayed\u001b[0m\u001b[0;34m(\u001b[0m\u001b[0m_tree_query_parallel_helper\u001b[0m\u001b[0;34m)\u001b[0m\u001b[0;34m\u001b[0m\u001b[0;34m\u001b[0m\u001b[0m\n\u001b[1;32m    660\u001b[0m                 \u001b[0mparallel_kwargs\u001b[0m \u001b[0;34m=\u001b[0m \u001b[0;34m{\u001b[0m\u001b[0;34m\"prefer\"\u001b[0m\u001b[0;34m:\u001b[0m \u001b[0;34m\"threads\"\u001b[0m\u001b[0;34m}\u001b[0m\u001b[0;34m\u001b[0m\u001b[0;34m\u001b[0m\u001b[0m\n\u001b[0;32m--> 661\u001b[0;31m             chunked_results = Parallel(n_jobs, **parallel_kwargs)(\n\u001b[0m\u001b[1;32m    662\u001b[0m                 delayed_query(\n\u001b[1;32m    663\u001b[0m                     self._tree, X[s], n_neighbors, return_distance)\n",
      "\u001b[0;32m~/opt/anaconda3/lib/python3.8/site-packages/joblib/parallel.py\u001b[0m in \u001b[0;36m__call__\u001b[0;34m(self, iterable)\u001b[0m\n\u001b[1;32m   1039\u001b[0m             \u001b[0;31m# remaining jobs.\u001b[0m\u001b[0;34m\u001b[0m\u001b[0;34m\u001b[0m\u001b[0;34m\u001b[0m\u001b[0m\n\u001b[1;32m   1040\u001b[0m             \u001b[0mself\u001b[0m\u001b[0;34m.\u001b[0m\u001b[0m_iterating\u001b[0m \u001b[0;34m=\u001b[0m \u001b[0;32mFalse\u001b[0m\u001b[0;34m\u001b[0m\u001b[0;34m\u001b[0m\u001b[0m\n\u001b[0;32m-> 1041\u001b[0;31m             \u001b[0;32mif\u001b[0m \u001b[0mself\u001b[0m\u001b[0;34m.\u001b[0m\u001b[0mdispatch_one_batch\u001b[0m\u001b[0;34m(\u001b[0m\u001b[0miterator\u001b[0m\u001b[0;34m)\u001b[0m\u001b[0;34m:\u001b[0m\u001b[0;34m\u001b[0m\u001b[0;34m\u001b[0m\u001b[0m\n\u001b[0m\u001b[1;32m   1042\u001b[0m                 \u001b[0mself\u001b[0m\u001b[0;34m.\u001b[0m\u001b[0m_iterating\u001b[0m \u001b[0;34m=\u001b[0m \u001b[0mself\u001b[0m\u001b[0;34m.\u001b[0m\u001b[0m_original_iterator\u001b[0m \u001b[0;32mis\u001b[0m \u001b[0;32mnot\u001b[0m \u001b[0;32mNone\u001b[0m\u001b[0;34m\u001b[0m\u001b[0;34m\u001b[0m\u001b[0m\n\u001b[1;32m   1043\u001b[0m \u001b[0;34m\u001b[0m\u001b[0m\n",
      "\u001b[0;32m~/opt/anaconda3/lib/python3.8/site-packages/joblib/parallel.py\u001b[0m in \u001b[0;36mdispatch_one_batch\u001b[0;34m(self, iterator)\u001b[0m\n\u001b[1;32m    857\u001b[0m                 \u001b[0;32mreturn\u001b[0m \u001b[0;32mFalse\u001b[0m\u001b[0;34m\u001b[0m\u001b[0;34m\u001b[0m\u001b[0m\n\u001b[1;32m    858\u001b[0m             \u001b[0;32melse\u001b[0m\u001b[0;34m:\u001b[0m\u001b[0;34m\u001b[0m\u001b[0;34m\u001b[0m\u001b[0m\n\u001b[0;32m--> 859\u001b[0;31m                 \u001b[0mself\u001b[0m\u001b[0;34m.\u001b[0m\u001b[0m_dispatch\u001b[0m\u001b[0;34m(\u001b[0m\u001b[0mtasks\u001b[0m\u001b[0;34m)\u001b[0m\u001b[0;34m\u001b[0m\u001b[0;34m\u001b[0m\u001b[0m\n\u001b[0m\u001b[1;32m    860\u001b[0m                 \u001b[0;32mreturn\u001b[0m \u001b[0;32mTrue\u001b[0m\u001b[0;34m\u001b[0m\u001b[0;34m\u001b[0m\u001b[0m\n\u001b[1;32m    861\u001b[0m \u001b[0;34m\u001b[0m\u001b[0m\n",
      "\u001b[0;32m~/opt/anaconda3/lib/python3.8/site-packages/joblib/parallel.py\u001b[0m in \u001b[0;36m_dispatch\u001b[0;34m(self, batch)\u001b[0m\n\u001b[1;32m    775\u001b[0m         \u001b[0;32mwith\u001b[0m \u001b[0mself\u001b[0m\u001b[0;34m.\u001b[0m\u001b[0m_lock\u001b[0m\u001b[0;34m:\u001b[0m\u001b[0;34m\u001b[0m\u001b[0;34m\u001b[0m\u001b[0m\n\u001b[1;32m    776\u001b[0m             \u001b[0mjob_idx\u001b[0m \u001b[0;34m=\u001b[0m \u001b[0mlen\u001b[0m\u001b[0;34m(\u001b[0m\u001b[0mself\u001b[0m\u001b[0;34m.\u001b[0m\u001b[0m_jobs\u001b[0m\u001b[0;34m)\u001b[0m\u001b[0;34m\u001b[0m\u001b[0;34m\u001b[0m\u001b[0m\n\u001b[0;32m--> 777\u001b[0;31m             \u001b[0mjob\u001b[0m \u001b[0;34m=\u001b[0m \u001b[0mself\u001b[0m\u001b[0;34m.\u001b[0m\u001b[0m_backend\u001b[0m\u001b[0;34m.\u001b[0m\u001b[0mapply_async\u001b[0m\u001b[0;34m(\u001b[0m\u001b[0mbatch\u001b[0m\u001b[0;34m,\u001b[0m \u001b[0mcallback\u001b[0m\u001b[0;34m=\u001b[0m\u001b[0mcb\u001b[0m\u001b[0;34m)\u001b[0m\u001b[0;34m\u001b[0m\u001b[0;34m\u001b[0m\u001b[0m\n\u001b[0m\u001b[1;32m    778\u001b[0m             \u001b[0;31m# A job can complete so quickly than its callback is\u001b[0m\u001b[0;34m\u001b[0m\u001b[0;34m\u001b[0m\u001b[0;34m\u001b[0m\u001b[0m\n\u001b[1;32m    779\u001b[0m             \u001b[0;31m# called before we get here, causing self._jobs to\u001b[0m\u001b[0;34m\u001b[0m\u001b[0;34m\u001b[0m\u001b[0;34m\u001b[0m\u001b[0m\n",
      "\u001b[0;32m~/opt/anaconda3/lib/python3.8/site-packages/joblib/_parallel_backends.py\u001b[0m in \u001b[0;36mapply_async\u001b[0;34m(self, func, callback)\u001b[0m\n\u001b[1;32m    206\u001b[0m     \u001b[0;32mdef\u001b[0m \u001b[0mapply_async\u001b[0m\u001b[0;34m(\u001b[0m\u001b[0mself\u001b[0m\u001b[0;34m,\u001b[0m \u001b[0mfunc\u001b[0m\u001b[0;34m,\u001b[0m \u001b[0mcallback\u001b[0m\u001b[0;34m=\u001b[0m\u001b[0;32mNone\u001b[0m\u001b[0;34m)\u001b[0m\u001b[0;34m:\u001b[0m\u001b[0;34m\u001b[0m\u001b[0;34m\u001b[0m\u001b[0m\n\u001b[1;32m    207\u001b[0m         \u001b[0;34m\"\"\"Schedule a func to be run\"\"\"\u001b[0m\u001b[0;34m\u001b[0m\u001b[0;34m\u001b[0m\u001b[0m\n\u001b[0;32m--> 208\u001b[0;31m         \u001b[0mresult\u001b[0m \u001b[0;34m=\u001b[0m \u001b[0mImmediateResult\u001b[0m\u001b[0;34m(\u001b[0m\u001b[0mfunc\u001b[0m\u001b[0;34m)\u001b[0m\u001b[0;34m\u001b[0m\u001b[0;34m\u001b[0m\u001b[0m\n\u001b[0m\u001b[1;32m    209\u001b[0m         \u001b[0;32mif\u001b[0m \u001b[0mcallback\u001b[0m\u001b[0;34m:\u001b[0m\u001b[0;34m\u001b[0m\u001b[0;34m\u001b[0m\u001b[0m\n\u001b[1;32m    210\u001b[0m             \u001b[0mcallback\u001b[0m\u001b[0;34m(\u001b[0m\u001b[0mresult\u001b[0m\u001b[0;34m)\u001b[0m\u001b[0;34m\u001b[0m\u001b[0;34m\u001b[0m\u001b[0m\n",
      "\u001b[0;32m~/opt/anaconda3/lib/python3.8/site-packages/joblib/_parallel_backends.py\u001b[0m in \u001b[0;36m__init__\u001b[0;34m(self, batch)\u001b[0m\n\u001b[1;32m    570\u001b[0m         \u001b[0;31m# Don't delay the application, to avoid keeping the input\u001b[0m\u001b[0;34m\u001b[0m\u001b[0;34m\u001b[0m\u001b[0;34m\u001b[0m\u001b[0m\n\u001b[1;32m    571\u001b[0m         \u001b[0;31m# arguments in memory\u001b[0m\u001b[0;34m\u001b[0m\u001b[0;34m\u001b[0m\u001b[0;34m\u001b[0m\u001b[0m\n\u001b[0;32m--> 572\u001b[0;31m         \u001b[0mself\u001b[0m\u001b[0;34m.\u001b[0m\u001b[0mresults\u001b[0m \u001b[0;34m=\u001b[0m \u001b[0mbatch\u001b[0m\u001b[0;34m(\u001b[0m\u001b[0;34m)\u001b[0m\u001b[0;34m\u001b[0m\u001b[0;34m\u001b[0m\u001b[0m\n\u001b[0m\u001b[1;32m    573\u001b[0m \u001b[0;34m\u001b[0m\u001b[0m\n\u001b[1;32m    574\u001b[0m     \u001b[0;32mdef\u001b[0m \u001b[0mget\u001b[0m\u001b[0;34m(\u001b[0m\u001b[0mself\u001b[0m\u001b[0;34m)\u001b[0m\u001b[0;34m:\u001b[0m\u001b[0;34m\u001b[0m\u001b[0;34m\u001b[0m\u001b[0m\n",
      "\u001b[0;32m~/opt/anaconda3/lib/python3.8/site-packages/joblib/parallel.py\u001b[0m in \u001b[0;36m__call__\u001b[0;34m(self)\u001b[0m\n\u001b[1;32m    260\u001b[0m         \u001b[0;31m# change the default number of processes to -1\u001b[0m\u001b[0;34m\u001b[0m\u001b[0;34m\u001b[0m\u001b[0;34m\u001b[0m\u001b[0m\n\u001b[1;32m    261\u001b[0m         \u001b[0;32mwith\u001b[0m \u001b[0mparallel_backend\u001b[0m\u001b[0;34m(\u001b[0m\u001b[0mself\u001b[0m\u001b[0;34m.\u001b[0m\u001b[0m_backend\u001b[0m\u001b[0;34m,\u001b[0m \u001b[0mn_jobs\u001b[0m\u001b[0;34m=\u001b[0m\u001b[0mself\u001b[0m\u001b[0;34m.\u001b[0m\u001b[0m_n_jobs\u001b[0m\u001b[0;34m)\u001b[0m\u001b[0;34m:\u001b[0m\u001b[0;34m\u001b[0m\u001b[0;34m\u001b[0m\u001b[0m\n\u001b[0;32m--> 262\u001b[0;31m             return [func(*args, **kwargs)\n\u001b[0m\u001b[1;32m    263\u001b[0m                     for func, args, kwargs in self.items]\n\u001b[1;32m    264\u001b[0m \u001b[0;34m\u001b[0m\u001b[0m\n",
      "\u001b[0;32m~/opt/anaconda3/lib/python3.8/site-packages/joblib/parallel.py\u001b[0m in \u001b[0;36m<listcomp>\u001b[0;34m(.0)\u001b[0m\n\u001b[1;32m    260\u001b[0m         \u001b[0;31m# change the default number of processes to -1\u001b[0m\u001b[0;34m\u001b[0m\u001b[0;34m\u001b[0m\u001b[0;34m\u001b[0m\u001b[0m\n\u001b[1;32m    261\u001b[0m         \u001b[0;32mwith\u001b[0m \u001b[0mparallel_backend\u001b[0m\u001b[0;34m(\u001b[0m\u001b[0mself\u001b[0m\u001b[0;34m.\u001b[0m\u001b[0m_backend\u001b[0m\u001b[0;34m,\u001b[0m \u001b[0mn_jobs\u001b[0m\u001b[0;34m=\u001b[0m\u001b[0mself\u001b[0m\u001b[0;34m.\u001b[0m\u001b[0m_n_jobs\u001b[0m\u001b[0;34m)\u001b[0m\u001b[0;34m:\u001b[0m\u001b[0;34m\u001b[0m\u001b[0;34m\u001b[0m\u001b[0m\n\u001b[0;32m--> 262\u001b[0;31m             return [func(*args, **kwargs)\n\u001b[0m\u001b[1;32m    263\u001b[0m                     for func, args, kwargs in self.items]\n\u001b[1;32m    264\u001b[0m \u001b[0;34m\u001b[0m\u001b[0m\n",
      "\u001b[0;32m~/opt/anaconda3/lib/python3.8/site-packages/sklearn/neighbors/_base.py\u001b[0m in \u001b[0;36m_tree_query_parallel_helper\u001b[0;34m(tree, *args, **kwargs)\u001b[0m\n\u001b[1;32m    489\u001b[0m     \u001b[0munder\u001b[0m \u001b[0mPyPy\u001b[0m\u001b[0;34m.\u001b[0m\u001b[0;34m\u001b[0m\u001b[0;34m\u001b[0m\u001b[0m\n\u001b[1;32m    490\u001b[0m     \"\"\"\n\u001b[0;32m--> 491\u001b[0;31m     \u001b[0;32mreturn\u001b[0m \u001b[0mtree\u001b[0m\u001b[0;34m.\u001b[0m\u001b[0mquery\u001b[0m\u001b[0;34m(\u001b[0m\u001b[0;34m*\u001b[0m\u001b[0margs\u001b[0m\u001b[0;34m,\u001b[0m \u001b[0;34m**\u001b[0m\u001b[0mkwargs\u001b[0m\u001b[0;34m)\u001b[0m\u001b[0;34m\u001b[0m\u001b[0;34m\u001b[0m\u001b[0m\n\u001b[0m\u001b[1;32m    492\u001b[0m \u001b[0;34m\u001b[0m\u001b[0m\n\u001b[1;32m    493\u001b[0m \u001b[0;34m\u001b[0m\u001b[0m\n",
      "\u001b[0;31mKeyboardInterrupt\u001b[0m: "
     ]
    }
   ],
   "source": [
    "rmse_val = [] #to store rmse values for different k\n",
    "for K in range(20):\n",
    "    K = K+1\n",
    "    model = neighbors.KNeighborsRegressor(n_neighbors = K)\n",
    "\n",
    "    model.fit(X_train, y_train)  #fit the model\n",
    "    pred=model.predict(X_test) #make prediction on test set\n",
    "    error = sqrt(mean_squared_error(y_test,pred)) #calculate rmse\n",
    "    rmse_val.append(error) #store rmse values\n",
    "    print('RMSE value for k= ' , K , 'is:', error)"
   ]
  },
  {
   "cell_type": "markdown",
   "id": "bb290ab9",
   "metadata": {},
   "source": [
    "## Import future schedule"
   ]
  },
  {
   "cell_type": "code",
   "execution_count": 1,
   "id": "c6fa7249",
   "metadata": {},
   "outputs": [
    {
     "ename": "NameError",
     "evalue": "name 'pd' is not defined",
     "output_type": "error",
     "traceback": [
      "\u001b[0;31m---------------------------------------------------------------------------\u001b[0m",
      "\u001b[0;31mNameError\u001b[0m                                 Traceback (most recent call last)",
      "\u001b[0;32m/var/folders/sl/1xwn2w1j4x7c2rxkc6cdlnrh0000gn/T/ipykernel_86421/1977735948.py\u001b[0m in \u001b[0;36m<module>\u001b[0;34m\u001b[0m\n\u001b[0;32m----> 1\u001b[0;31m \u001b[0mfuture\u001b[0m\u001b[0;34m=\u001b[0m\u001b[0mpd\u001b[0m\u001b[0;34m.\u001b[0m\u001b[0mread_excel\u001b[0m\u001b[0;34m(\u001b[0m\u001b[0;34m'Future_Schedule.xlsx'\u001b[0m\u001b[0;34m)\u001b[0m\u001b[0;34m\u001b[0m\u001b[0;34m\u001b[0m\u001b[0m\n\u001b[0m\u001b[1;32m      2\u001b[0m \u001b[0mfuture\u001b[0m\u001b[0;34m\u001b[0m\u001b[0;34m\u001b[0m\u001b[0m\n",
      "\u001b[0;31mNameError\u001b[0m: name 'pd' is not defined"
     ]
    }
   ],
   "source": [
    "future=pd.read_excel('Future_Schedule.xlsx')\n",
    "future"
   ]
  },
  {
   "cell_type": "code",
   "execution_count": null,
   "id": "22ac38b7",
   "metadata": {},
   "outputs": [],
   "source": [
    "future=future.drop(columns=['FlightNumber'])"
   ]
  },
  {
   "cell_type": "code",
   "execution_count": 378,
   "id": "1cd7cb1f",
   "metadata": {},
   "outputs": [
    {
     "name": "stdout",
     "output_type": "stream",
     "text": [
      "ScheduleTime 0\n",
      "Airline 0\n",
      "FlightNumber 0\n",
      "Destination 0\n",
      "AircraftType 0\n",
      "FlightType 0\n",
      "Sector 0\n",
      "SeatCapacity 0\n"
     ]
    }
   ],
   "source": [
    "for el in future:\n",
    "    print(el,sum(future[el].isnull()))"
   ]
  },
  {
   "cell_type": "code",
   "execution_count": 380,
   "id": "c76bbef6",
   "metadata": {},
   "outputs": [],
   "source": [
    "future.AircraftType=future.AircraftType.astype('str')"
   ]
  },
  {
   "cell_type": "code",
   "execution_count": 381,
   "id": "91b95ed6",
   "metadata": {},
   "outputs": [
    {
     "ename": "AttributeError",
     "evalue": "'DataFrame' object has no attribute 'Airline'",
     "output_type": "error",
     "traceback": [
      "\u001b[0;31m---------------------------------------------------------------------------\u001b[0m",
      "\u001b[0;31mAttributeError\u001b[0m                            Traceback (most recent call last)",
      "\u001b[0;32m/var/folders/sl/1xwn2w1j4x7c2rxkc6cdlnrh0000gn/T/ipykernel_80904/3821608922.py\u001b[0m in \u001b[0;36m<module>\u001b[0;34m\u001b[0m\n\u001b[1;32m      4\u001b[0m \u001b[0menc_df\u001b[0m \u001b[0;34m=\u001b[0m \u001b[0mpd\u001b[0m\u001b[0;34m.\u001b[0m\u001b[0mDataFrame\u001b[0m\u001b[0;34m(\u001b[0m\u001b[0menc\u001b[0m\u001b[0;34m.\u001b[0m\u001b[0mfit_transform\u001b[0m\u001b[0;34m(\u001b[0m\u001b[0mfuture\u001b[0m\u001b[0;34m[\u001b[0m\u001b[0;34m[\u001b[0m\u001b[0;34m'Airline'\u001b[0m\u001b[0;34m]\u001b[0m\u001b[0;34m]\u001b[0m\u001b[0;34m)\u001b[0m\u001b[0;34m.\u001b[0m\u001b[0mtoarray\u001b[0m\u001b[0;34m(\u001b[0m\u001b[0;34m)\u001b[0m\u001b[0;34m)\u001b[0m\u001b[0;34m\u001b[0m\u001b[0;34m\u001b[0m\u001b[0m\n\u001b[1;32m      5\u001b[0m \u001b[0mairline_d\u001b[0m\u001b[0;34m=\u001b[0m\u001b[0;34m{\u001b[0m\u001b[0;34m}\u001b[0m\u001b[0;34m\u001b[0m\u001b[0;34m\u001b[0m\u001b[0m\n\u001b[0;32m----> 6\u001b[0;31m \u001b[0;32mfor\u001b[0m \u001b[0mi\u001b[0m \u001b[0;32min\u001b[0m \u001b[0mrange\u001b[0m \u001b[0;34m(\u001b[0m\u001b[0;36m0\u001b[0m\u001b[0;34m,\u001b[0m\u001b[0mlen\u001b[0m\u001b[0;34m(\u001b[0m\u001b[0mnp\u001b[0m\u001b[0;34m.\u001b[0m\u001b[0munique\u001b[0m\u001b[0;34m(\u001b[0m\u001b[0mdata\u001b[0m\u001b[0;34m.\u001b[0m\u001b[0mAirline\u001b[0m\u001b[0;34m)\u001b[0m\u001b[0;34m)\u001b[0m\u001b[0;34m)\u001b[0m\u001b[0;34m:\u001b[0m\u001b[0;34m\u001b[0m\u001b[0;34m\u001b[0m\u001b[0m\n\u001b[0m\u001b[1;32m      7\u001b[0m     \u001b[0mairline_d\u001b[0m\u001b[0;34m[\u001b[0m\u001b[0mi\u001b[0m\u001b[0;34m]\u001b[0m\u001b[0;34m=\u001b[0m\u001b[0menc\u001b[0m\u001b[0;34m.\u001b[0m\u001b[0mcategories_\u001b[0m\u001b[0;34m[\u001b[0m\u001b[0;36m0\u001b[0m\u001b[0;34m]\u001b[0m\u001b[0;34m[\u001b[0m\u001b[0mi\u001b[0m\u001b[0;34m]\u001b[0m\u001b[0;34m\u001b[0m\u001b[0;34m\u001b[0m\u001b[0m\n\u001b[1;32m      8\u001b[0m \u001b[0menc_df\u001b[0m\u001b[0;34m=\u001b[0m\u001b[0menc_df\u001b[0m\u001b[0;34m.\u001b[0m\u001b[0mrename\u001b[0m\u001b[0;34m(\u001b[0m\u001b[0mcolumns\u001b[0m\u001b[0;34m=\u001b[0m\u001b[0mairline_d\u001b[0m\u001b[0;34m)\u001b[0m\u001b[0;34m\u001b[0m\u001b[0;34m\u001b[0m\u001b[0m\n",
      "\u001b[0;32m~/opt/anaconda3/lib/python3.8/site-packages/pandas/core/generic.py\u001b[0m in \u001b[0;36m__getattr__\u001b[0;34m(self, name)\u001b[0m\n\u001b[1;32m   5485\u001b[0m         ):\n\u001b[1;32m   5486\u001b[0m             \u001b[0;32mreturn\u001b[0m \u001b[0mself\u001b[0m\u001b[0;34m[\u001b[0m\u001b[0mname\u001b[0m\u001b[0;34m]\u001b[0m\u001b[0;34m\u001b[0m\u001b[0;34m\u001b[0m\u001b[0m\n\u001b[0;32m-> 5487\u001b[0;31m         \u001b[0;32mreturn\u001b[0m \u001b[0mobject\u001b[0m\u001b[0;34m.\u001b[0m\u001b[0m__getattribute__\u001b[0m\u001b[0;34m(\u001b[0m\u001b[0mself\u001b[0m\u001b[0;34m,\u001b[0m \u001b[0mname\u001b[0m\u001b[0;34m)\u001b[0m\u001b[0;34m\u001b[0m\u001b[0;34m\u001b[0m\u001b[0m\n\u001b[0m\u001b[1;32m   5488\u001b[0m \u001b[0;34m\u001b[0m\u001b[0m\n\u001b[1;32m   5489\u001b[0m     \u001b[0;32mdef\u001b[0m \u001b[0m__setattr__\u001b[0m\u001b[0;34m(\u001b[0m\u001b[0mself\u001b[0m\u001b[0;34m,\u001b[0m \u001b[0mname\u001b[0m\u001b[0;34m:\u001b[0m \u001b[0mstr\u001b[0m\u001b[0;34m,\u001b[0m \u001b[0mvalue\u001b[0m\u001b[0;34m)\u001b[0m \u001b[0;34m->\u001b[0m \u001b[0;32mNone\u001b[0m\u001b[0;34m:\u001b[0m\u001b[0;34m\u001b[0m\u001b[0;34m\u001b[0m\u001b[0m\n",
      "\u001b[0;31mAttributeError\u001b[0m: 'DataFrame' object has no attribute 'Airline'"
     ]
    }
   ],
   "source": [
    "# creating instance of one-hot-encoder\n",
    "enc = OneHotEncoder(handle_unknown='ignore')\n",
    "# passing bridge-types-cat column (label encoded values of bridge_types)\n",
    "enc_df = pd.DataFrame(enc.fit_transform(future[['Airline']]).toarray())\n",
    "airline_d={}\n",
    "for i in range (0,len(np.unique(data.Airline))):\n",
    "    airline_d[i]=enc.categories_[0][i]\n",
    "enc_df=enc_df.rename(columns=airline_d)"
   ]
  },
  {
   "cell_type": "code",
   "execution_count": null,
   "id": "c7b7dabe",
   "metadata": {},
   "outputs": [],
   "source": []
  }
 ],
 "metadata": {
  "kernelspec": {
   "display_name": "Python 3 (ipykernel)",
   "language": "python",
   "name": "python3"
  },
  "language_info": {
   "codemirror_mode": {
    "name": "ipython",
    "version": 3
   },
   "file_extension": ".py",
   "mimetype": "text/x-python",
   "name": "python",
   "nbconvert_exporter": "python",
   "pygments_lexer": "ipython3",
   "version": "3.8.2"
  }
 },
 "nbformat": 4,
 "nbformat_minor": 5
}
